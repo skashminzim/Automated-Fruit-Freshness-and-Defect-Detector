{
 "cells": [
  {
   "cell_type": "code",
   "execution_count": 3,
   "metadata": {},
   "outputs": [],
   "source": [
    "import traceback\n",
    "import cv2\n",
    "import numpy as np\n",
    "import math\n",
    "from numpy import loadtxt\n",
    "from keras.models import load_model\n",
    "cam = cv2.VideoCapture(0)\n",
    "classifier = load_model('rottenvsfresh.h5')"
   ]
  },
  {
   "cell_type": "code",
   "execution_count": null,
   "metadata": {},
   "outputs": [],
   "source": [
    "while(1):\n",
    "    try:\n",
    "        ret, frame = cam.read()\n",
    "        frame = cv2.flip(frame,1)\n",
    "        roi = frame[100:400,200:500]\n",
    "        cv2.rectangle(frame,(200,100),(500,400),(0,255,0),2) \n",
    "        cv2.imshow('curFrame',frame)\n",
    "        cv2.imshow('roi',roi)\n",
    "        classifier.compile(loss='binary_crossentropy',optimizer='rmsprop',metrics=['accuracy'])\n",
    "        img = cv2.resize(roi,(100,100))\n",
    "        img = np.reshape(img,[1,100,100,3])\n",
    "\n",
    "        classes = classifier.predict_classes(img)\n",
    "\n",
    "        print(classes)\n",
    "\n",
    "\n",
    "        if cv2.waitKey(1) & 0xFF == ord('q'):\n",
    "            break\n",
    "\n",
    "    except Exception:\n",
    "        traceback.print_exc()\n",
    "        pass        \n",
    "\n",
    "cam.release()\n",
    "cv2.destroyAllWindows()"
   ]
  }
 ],
 "metadata": {
  "kernelspec": {
   "display_name": "Python 3",
   "language": "python",
   "name": "python3"
  },
  "language_info": {
   "codemirror_mode": {
    "name": "ipython",
    "version": 3
   },
   "file_extension": ".py",
   "mimetype": "text/x-python",
   "name": "python",
   "nbconvert_exporter": "python",
   "pygments_lexer": "ipython3",
   "version": "3.8.5"
  }
 },
 "nbformat": 4,
 "nbformat_minor": 4
}
