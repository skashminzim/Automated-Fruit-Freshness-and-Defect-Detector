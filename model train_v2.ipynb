{
 "cells": [
  {
   "cell_type": "code",
   "execution_count": 1,
   "metadata": {},
   "outputs": [],
   "source": [
    "import numpy as np \n",
    "import pandas as pd\n",
    "import os\n",
    "import cv2\n",
    "import matplotlib.pyplot as plt\n",
    "from tqdm import tqdm\n",
    "from random import shuffle\n",
    "from keras.utils  import to_categorical\n",
    "import tensorflow as tf\n",
    "import pickle"
   ]
  },
  {
   "cell_type": "code",
   "execution_count": 2,
   "metadata": {},
   "outputs": [],
   "source": [
    "def load_rottenvsfresh():\n",
    "    quality=['freshapples', 'freshbanana', 'freshoranges', 'rottenapples', 'rottenbanana', 'rottenoranges']\n",
    "    X,Y=[],[]\n",
    "    z=[]\n",
    "    for cata in tqdm(os.listdir('train')):\n",
    "        if quality[0] in cata:\n",
    "            path_main=os.path.join('train',cata)\n",
    "            for img_name in os.listdir(path_main):\n",
    "                img=cv2.imread(os.path.join(path_main,img_name))\n",
    "                img=cv2.resize(img,(100,100))\n",
    "                img=cv2.cvtColor(img,cv2.COLOR_BGR2RGB)\n",
    "                z.append([img,0])\n",
    "        elif quality[1] in cata:\n",
    "            path_main=os.path.join('train',cata)\n",
    "            for img_name in os.listdir(path_main):\n",
    "                img=cv2.imread(os.path.join(path_main,img_name))\n",
    "                img=cv2.resize(img,(100,100))\n",
    "                img=cv2.cvtColor(img,cv2.COLOR_BGR2RGB)\n",
    "                z.append([img,1])\n",
    "        elif quality[2] in cata:\n",
    "            path_main=os.path.join('train',cata)\n",
    "            for img_name in os.listdir(path_main):\n",
    "                img=cv2.imread(os.path.join(path_main,img_name))\n",
    "                img=cv2.resize(img,(100,100))\n",
    "                img=cv2.cvtColor(img,cv2.COLOR_BGR2RGB)\n",
    "                z.append([img,2])\n",
    "        elif quality[3] in cata:\n",
    "            path_main=os.path.join('train',cata)\n",
    "            for img_name in os.listdir(path_main):\n",
    "                img=cv2.imread(os.path.join(path_main,img_name))\n",
    "                img=cv2.resize(img,(100,100))\n",
    "                img=cv2.cvtColor(img,cv2.COLOR_BGR2RGB)\n",
    "                z.append([img,3])\n",
    "        elif quality[4] in cata:\n",
    "            path_main=os.path.join('train',cata)\n",
    "            for img_name in os.listdir(path_main):\n",
    "                img=cv2.imread(os.path.join(path_main,img_name))\n",
    "                img=cv2.resize(img,(100,100))\n",
    "                img=cv2.cvtColor(img,cv2.COLOR_BGR2RGB)\n",
    "                z.append([img,4])\n",
    "        else:\n",
    "            path_main=os.path.join('train',cata)\n",
    "            for img_name in os.listdir(path_main):\n",
    "                img=cv2.imread(os.path.join(path_main,img_name))\n",
    "                img=cv2.resize(img,(100,100))\n",
    "                img=cv2.cvtColor(img,cv2.COLOR_BGR2RGB)\n",
    "                z.append([img,5])\n",
    "    print('Shuffling data.....')\n",
    "    shuffle(z)\n",
    "    for images, labels in tqdm(z):\n",
    "        X.append(images);Y.append(labels)\n",
    "    return X,Y"
   ]
  },
  {
   "cell_type": "code",
   "execution_count": 3,
   "metadata": {},
   "outputs": [
    {
     "name": "stderr",
     "output_type": "stream",
     "text": [
      "100%|████████████████████████████████████████████████████████████████████████████████████| 6/6 [03:10<00:00, 31.77s/it]\n",
      "100%|███████████████████████████████████████████████████████████████████████| 10901/10901 [00:00<00:00, 1093176.52it/s]"
     ]
    },
    {
     "name": "stdout",
     "output_type": "stream",
     "text": [
      "Shuffling data.....\n"
     ]
    },
    {
     "name": "stderr",
     "output_type": "stream",
     "text": [
      "\n"
     ]
    }
   ],
   "source": [
    "X,Y=load_rottenvsfresh()"
   ]
  },
  {
   "cell_type": "code",
   "execution_count": 4,
   "metadata": {},
   "outputs": [
    {
     "data": {
      "text/plain": [
       "[(3, 2342), (4, 2224), (0, 1693), (5, 1595), (1, 1581), (2, 1466)]"
      ]
     },
     "execution_count": 4,
     "metadata": {},
     "output_type": "execute_result"
    }
   ],
   "source": [
    "from collections import Counter\n",
    "Y=np.array(Y)\n",
    "X=np.array(X)\n",
    "newData = Counter(Y)\n",
    "most_fruits = newData.most_common(6)\n",
    "most_fruits"
   ]
  },
  {
   "cell_type": "code",
   "execution_count": 5,
   "metadata": {},
   "outputs": [
    {
     "data": {
      "text/plain": [
       "(10901, 100, 100, 3)"
      ]
     },
     "execution_count": 5,
     "metadata": {},
     "output_type": "execute_result"
    }
   ],
   "source": [
    "X.shape"
   ]
  },
  {
   "cell_type": "code",
   "execution_count": 6,
   "metadata": {},
   "outputs": [],
   "source": [
    "def load_rottenvsfresh_test_valset():\n",
    "    quality=['freshapples', 'freshbanana', 'freshoranges', 'rottenapples', 'rottenbanana', 'rottenoranges']\n",
    "    X,Y=[],[]\n",
    "    z=[]\n",
    "    for cata in tqdm(os.listdir('test')):\n",
    "        if quality[0] in cata:\n",
    "            path_main=os.path.join('test',cata)\n",
    "            for img_name in os.listdir(path_main):\n",
    "                img=cv2.imread(os.path.join(path_main,img_name))\n",
    "                img=cv2.resize(img,(100,100))\n",
    "                img=cv2.cvtColor(img,cv2.COLOR_BGR2RGB)\n",
    "                z.append([img,0])\n",
    "        elif quality[1] in cata:\n",
    "            path_main=os.path.join('test',cata)\n",
    "            for img_name in os.listdir(path_main):\n",
    "                img=cv2.imread(os.path.join(path_main,img_name))\n",
    "                img=cv2.resize(img,(100,100))\n",
    "                img=cv2.cvtColor(img,cv2.COLOR_BGR2RGB)\n",
    "                z.append([img,1])\n",
    "        elif quality[2] in cata:\n",
    "            path_main=os.path.join('test',cata)\n",
    "            for img_name in os.listdir(path_main):\n",
    "                img=cv2.imread(os.path.join(path_main,img_name))\n",
    "                img=cv2.resize(img,(100,100))\n",
    "                img=cv2.cvtColor(img,cv2.COLOR_BGR2RGB)\n",
    "                z.append([img,2])\n",
    "        elif quality[3] in cata:\n",
    "            path_main=os.path.join('test',cata)\n",
    "            for img_name in os.listdir(path_main):\n",
    "                img=cv2.imread(os.path.join(path_main,img_name))\n",
    "                img=cv2.resize(img,(100,100))\n",
    "                img=cv2.cvtColor(img,cv2.COLOR_BGR2RGB)\n",
    "                z.append([img,3])\n",
    "        elif quality[4] in cata:\n",
    "            path_main=os.path.join('test',cata)\n",
    "            for img_name in os.listdir(path_main):\n",
    "                img=cv2.imread(os.path.join(path_main,img_name))\n",
    "                img=cv2.resize(img,(100,100))\n",
    "                img=cv2.cvtColor(img,cv2.COLOR_BGR2RGB)\n",
    "                z.append([img,4])\n",
    "        else:\n",
    "            path_main=os.path.join('test',cata)\n",
    "            for img_name in os.listdir(path_main):\n",
    "                img=cv2.imread(os.path.join(path_main,img_name))\n",
    "                img=cv2.resize(img,(100,100))\n",
    "                img=cv2.cvtColor(img,cv2.COLOR_BGR2RGB)\n",
    "                z.append([img,5])\n",
    "    print('Shuffling data.....')\n",
    "    shuffle(z)\n",
    "    for images, labels in tqdm(z):\n",
    "        X.append(images);Y.append(labels)\n",
    "    return X,Y"
   ]
  },
  {
   "cell_type": "code",
   "execution_count": 7,
   "metadata": {},
   "outputs": [
    {
     "name": "stderr",
     "output_type": "stream",
     "text": [
      "100%|████████████████████████████████████████████████████████████████████████████████████| 6/6 [00:51<00:00,  8.55s/it]\n",
      "100%|██████████████████████████████████████████████████████████████████████████| 2698/2698 [00:00<00:00, 900615.38it/s]"
     ]
    },
    {
     "name": "stdout",
     "output_type": "stream",
     "text": [
      "Shuffling data.....\n"
     ]
    },
    {
     "name": "stderr",
     "output_type": "stream",
     "text": [
      "\n"
     ]
    }
   ],
   "source": [
    "X_val,Y_val=load_rottenvsfresh_test_valset()"
   ]
  },
  {
   "cell_type": "code",
   "execution_count": 8,
   "metadata": {},
   "outputs": [
    {
     "data": {
      "text/plain": [
       "[(3, 601), (4, 530), (5, 403), (0, 395), (2, 388), (1, 381)]"
      ]
     },
     "execution_count": 8,
     "metadata": {},
     "output_type": "execute_result"
    }
   ],
   "source": [
    "Y_val=np.array(Y_val)\n",
    "X_val=np.array(X_val)\n",
    "newData = Counter(Y_val)\n",
    "most_fruits = newData.most_common(6)\n",
    "most_fruits"
   ]
  },
  {
   "cell_type": "code",
   "execution_count": 9,
   "metadata": {},
   "outputs": [],
   "source": [
    "X=X/255.0\n",
    "X_val=X_val/255.0"
   ]
  },
  {
   "cell_type": "code",
   "execution_count": 10,
   "metadata": {},
   "outputs": [],
   "source": [
    "Y=to_categorical(Y)\n",
    "Y_val=to_categorical(Y_val)"
   ]
  },
  {
   "cell_type": "code",
   "execution_count": 11,
   "metadata": {},
   "outputs": [
    {
     "data": {
      "text/plain": [
       "((10901, 6), (2698, 6))"
      ]
     },
     "execution_count": 11,
     "metadata": {},
     "output_type": "execute_result"
    }
   ],
   "source": [
    "Y.shape, Y_val.shape"
   ]
  },
  {
   "cell_type": "code",
   "execution_count": 12,
   "metadata": {},
   "outputs": [],
   "source": [
    "import keras \n",
    "from keras.layers import Dense,Dropout, Conv2D,MaxPooling2D , Activation, Flatten, BatchNormalization, SeparableConv2D\n",
    "from keras.models import Sequential"
   ]
  },
  {
   "cell_type": "code",
   "execution_count": 13,
   "metadata": {},
   "outputs": [
    {
     "name": "stdout",
     "output_type": "stream",
     "text": [
      "Model: \"sequential\"\n",
      "_________________________________________________________________\n",
      "Layer (type)                 Output Shape              Param #   \n",
      "=================================================================\n",
      "conv2d (Conv2D)              (None, 100, 100, 32)      896       \n",
      "_________________________________________________________________\n",
      "batch_normalization (BatchNo (None, 100, 100, 32)      128       \n",
      "_________________________________________________________________\n",
      "separable_conv2d (SeparableC (None, 100, 100, 64)      2400      \n",
      "_________________________________________________________________\n",
      "max_pooling2d (MaxPooling2D) (None, 50, 50, 64)        0         \n",
      "_________________________________________________________________\n",
      "dropout (Dropout)            (None, 50, 50, 64)        0         \n",
      "_________________________________________________________________\n",
      "separable_conv2d_1 (Separabl (None, 50, 50, 128)       8896      \n",
      "_________________________________________________________________\n",
      "batch_normalization_1 (Batch (None, 50, 50, 128)       512       \n",
      "_________________________________________________________________\n",
      "max_pooling2d_1 (MaxPooling2 (None, 25, 25, 128)       0         \n",
      "_________________________________________________________________\n",
      "dropout_1 (Dropout)          (None, 25, 25, 128)       0         \n",
      "_________________________________________________________________\n",
      "flatten (Flatten)            (None, 80000)             0         \n",
      "_________________________________________________________________\n",
      "dense (Dense)                (None, 128)               10240128  \n",
      "_________________________________________________________________\n",
      "dropout_2 (Dropout)          (None, 128)               0         \n",
      "_________________________________________________________________\n",
      "dense_1 (Dense)              (None, 6)                 774       \n",
      "=================================================================\n",
      "Total params: 10,253,734\n",
      "Trainable params: 10,253,414\n",
      "Non-trainable params: 320\n",
      "_________________________________________________________________\n"
     ]
    }
   ],
   "source": [
    "model = Sequential()\n",
    "\n",
    "model.add(Conv2D(32, (3, 3), kernel_initializer='he_uniform', padding='same', activation='relu', input_shape=(100,100,3)))\n",
    "model.add(BatchNormalization())\n",
    "model.add(SeparableConv2D(64, (3, 3), kernel_initializer='he_uniform', padding='same', activation='relu'))\n",
    "model.add(MaxPooling2D((2, 2)))\n",
    "model.add(Dropout(0.2))\n",
    "model.add(SeparableConv2D(128, (3, 3), kernel_initializer='he_uniform', padding='same', activation='relu'))\n",
    "model.add(BatchNormalization())\n",
    "model.add(MaxPooling2D((2, 2)))\n",
    "model.add(Dropout(0.3))\n",
    "\n",
    "model.add(Flatten())\n",
    "\n",
    "model.add(Dense(128, activation='relu', kernel_initializer='he_uniform'))\n",
    "model.add(Dropout(0.5))\n",
    "\n",
    "model.add(Dense(6, activation='softmax'))\n",
    "model.summary()"
   ]
  },
  {
   "cell_type": "code",
   "execution_count": 14,
   "metadata": {},
   "outputs": [],
   "source": [
    "lr_rate=keras.callbacks.ReduceLROnPlateau(\n",
    "    monitor='val_loss', factor=0.5, patience=6, verbose=1, mode='max',\n",
    "    min_lr=0.00002, cooldown=2)\n",
    "check_point=tf.keras.callbacks.ModelCheckpoint(\n",
    "    filepath='fruit_v2.h5', monitor='val_loss', verbose=1, save_best_only=True,\n",
    "    save_weights_only=False, mode='min')"
   ]
  },
  {
   "cell_type": "code",
   "execution_count": 15,
   "metadata": {},
   "outputs": [],
   "source": [
    "model.compile(loss=keras.losses.categorical_crossentropy, optimizer = keras.optimizers.Adam(lr = 0.001), metrics=['accuracy'])"
   ]
  },
  {
   "cell_type": "code",
   "execution_count": 16,
   "metadata": {},
   "outputs": [
    {
     "name": "stdout",
     "output_type": "stream",
     "text": [
      "Epoch 1/30\n",
      "546/546 [==============================] - 538s 961ms/step - loss: 1.4558 - accuracy: 0.6687 - val_loss: 0.5421 - val_accuracy: 0.7910\n",
      "\n",
      "Epoch 00001: val_loss improved from inf to 0.54208, saving model to fruit_v2.h5\n",
      "Epoch 2/30\n",
      "546/546 [==============================] - 494s 904ms/step - loss: 0.3780 - accuracy: 0.8705 - val_loss: 0.3969 - val_accuracy: 0.8636\n",
      "\n",
      "Epoch 00002: val_loss improved from 0.54208 to 0.39688, saving model to fruit_v2.h5\n",
      "Epoch 3/30\n",
      "546/546 [==============================] - 480s 880ms/step - loss: 0.3460 - accuracy: 0.8844 - val_loss: 0.2754 - val_accuracy: 0.9177\n",
      "\n",
      "Epoch 00003: val_loss improved from 0.39688 to 0.27542, saving model to fruit_v2.h5\n",
      "Epoch 4/30\n",
      "546/546 [==============================] - 477s 874ms/step - loss: 0.2374 - accuracy: 0.9213 - val_loss: 0.1251 - val_accuracy: 0.9518\n",
      "\n",
      "Epoch 00004: val_loss improved from 0.27542 to 0.12514, saving model to fruit_v2.h5\n",
      "Epoch 5/30\n",
      "546/546 [==============================] - 481s 882ms/step - loss: 0.2184 - accuracy: 0.9264 - val_loss: 0.3511 - val_accuracy: 0.8829\n",
      "\n",
      "Epoch 00005: val_loss did not improve from 0.12514\n",
      "Epoch 6/30\n",
      "546/546 [==============================] - 489s 896ms/step - loss: 0.2904 - accuracy: 0.9078 - val_loss: 0.1475 - val_accuracy: 0.9552\n",
      "\n",
      "Epoch 00006: val_loss did not improve from 0.12514\n",
      "Epoch 7/30\n",
      "546/546 [==============================] - 507s 929ms/step - loss: 0.1499 - accuracy: 0.9493 - val_loss: 0.3873 - val_accuracy: 0.8966\n",
      "\n",
      "Epoch 00007: val_loss did not improve from 0.12514\n",
      "Epoch 8/30\n",
      "546/546 [==============================] - 481s 880ms/step - loss: 0.4463 - accuracy: 0.8669 - val_loss: 0.1224 - val_accuracy: 0.9563\n",
      "\n",
      "Epoch 00008: val_loss improved from 0.12514 to 0.12243, saving model to fruit_v2.h5\n",
      "Epoch 9/30\n",
      "546/546 [==============================] - 499s 914ms/step - loss: 0.1979 - accuracy: 0.9382 - val_loss: 0.1549 - val_accuracy: 0.9552\n",
      "\n",
      "Epoch 00009: val_loss did not improve from 0.12243\n",
      "Epoch 10/30\n",
      "546/546 [==============================] - 518s 949ms/step - loss: 0.1150 - accuracy: 0.9622 - val_loss: 0.1989 - val_accuracy: 0.9400\n",
      "\n",
      "Epoch 00010: val_loss did not improve from 0.12243\n",
      "Epoch 11/30\n",
      "546/546 [==============================] - 526s 963ms/step - loss: 0.1154 - accuracy: 0.9616 - val_loss: 0.0740 - val_accuracy: 0.9744\n",
      "\n",
      "Epoch 00011: val_loss improved from 0.12243 to 0.07400, saving model to fruit_v2.h5\n",
      "Epoch 12/30\n",
      "546/546 [==============================] - 529s 968ms/step - loss: 0.0995 - accuracy: 0.9677 - val_loss: 0.0984 - val_accuracy: 0.9655\n",
      "\n",
      "Epoch 00012: val_loss did not improve from 0.07400\n",
      "Epoch 13/30\n",
      "546/546 [==============================] - 519s 950ms/step - loss: 0.1271 - accuracy: 0.9584 - val_loss: 0.3598 - val_accuracy: 0.9051\n",
      "\n",
      "Epoch 00013: val_loss did not improve from 0.07400\n",
      "Epoch 14/30\n",
      "546/546 [==============================] - 514s 942ms/step - loss: 0.2241 - accuracy: 0.9354 - val_loss: 0.2915 - val_accuracy: 0.9285\n",
      "\n",
      "Epoch 00014: val_loss did not improve from 0.07400\n",
      "Epoch 15/30\n",
      "546/546 [==============================] - 597s 1s/step - loss: 0.1532 - accuracy: 0.9534 - val_loss: 0.0971 - val_accuracy: 0.9744\n",
      "\n",
      "Epoch 00015: val_loss did not improve from 0.07400\n",
      "Epoch 16/30\n",
      "546/546 [==============================] - 607s 1s/step - loss: 0.1237 - accuracy: 0.9635 - val_loss: 0.0683 - val_accuracy: 0.9807\n",
      "\n",
      "Epoch 00016: val_loss improved from 0.07400 to 0.06831, saving model to fruit_v2.h5\n",
      "Epoch 17/30\n",
      "546/546 [==============================] - 546s 1s/step - loss: 0.0751 - accuracy: 0.9762 - val_loss: 0.0959 - val_accuracy: 0.9755\n",
      "\n",
      "Epoch 00017: val_loss did not improve from 0.06831\n",
      "Epoch 18/30\n",
      "546/546 [==============================] - 519s 951ms/step - loss: 0.1016 - accuracy: 0.9711 - val_loss: 0.2449 - val_accuracy: 0.9514\n",
      "\n",
      "Epoch 00018: val_loss did not improve from 0.06831\n",
      "Epoch 19/30\n",
      "546/546 [==============================] - 508s 930ms/step - loss: 0.0994 - accuracy: 0.9680 - val_loss: 0.2015 - val_accuracy: 0.9514\n",
      "\n",
      "Epoch 00019: val_loss did not improve from 0.06831\n",
      "Epoch 20/30\n",
      "546/546 [==============================] - 508s 930ms/step - loss: 0.1265 - accuracy: 0.9689 - val_loss: 0.0831 - val_accuracy: 0.9759\n",
      "\n",
      "Epoch 00020: val_loss did not improve from 0.06831\n",
      "Epoch 21/30\n",
      "546/546 [==============================] - 454s 832ms/step - loss: 0.1113 - accuracy: 0.9691 - val_loss: 0.1080 - val_accuracy: 0.9722\n",
      "\n",
      "Epoch 00021: val_loss did not improve from 0.06831\n",
      "Epoch 22/30\n",
      "546/546 [==============================] - 723s 1s/step - loss: 0.1159 - accuracy: 0.9676 - val_loss: 0.1344 - val_accuracy: 0.9652\n",
      "\n",
      "Epoch 00022: val_loss did not improve from 0.06831\n",
      "Epoch 23/30\n",
      "546/546 [==============================] - 496s 908ms/step - loss: 0.4512 - accuracy: 0.9016 - val_loss: 0.0754 - val_accuracy: 0.9763\n",
      "\n",
      "Epoch 00023: val_loss did not improve from 0.06831\n",
      "Epoch 24/30\n",
      "546/546 [==============================] - 482s 884ms/step - loss: 0.0810 - accuracy: 0.9755 - val_loss: 0.3916 - val_accuracy: 0.9340\n",
      "\n",
      "Epoch 00024: val_loss did not improve from 0.06831\n",
      "Epoch 25/30\n",
      "546/546 [==============================] - 607s 1s/step - loss: 0.1409 - accuracy: 0.9649 - val_loss: 0.1458 - val_accuracy: 0.9707\n",
      "\n",
      "Epoch 00025: val_loss did not improve from 0.06831\n",
      "Epoch 26/30\n",
      "546/546 [==============================] - 621s 1s/step - loss: 0.0887 - accuracy: 0.9754 - val_loss: 0.1051 - val_accuracy: 0.9700\n",
      "\n",
      "Epoch 00026: val_loss did not improve from 0.06831\n",
      "Epoch 27/30\n",
      "546/546 [==============================] - 618s 1s/step - loss: 0.1052 - accuracy: 0.9729 - val_loss: 0.1150 - val_accuracy: 0.9759\n",
      "\n",
      "Epoch 00027: val_loss did not improve from 0.06831\n",
      "Epoch 28/30\n",
      "546/546 [==============================] - 608s 1s/step - loss: 0.0583 - accuracy: 0.9828 - val_loss: 0.0618 - val_accuracy: 0.9844\n",
      "\n",
      "Epoch 00028: val_loss improved from 0.06831 to 0.06180, saving model to fruit_v2.h5\n",
      "Epoch 29/30\n",
      "546/546 [==============================] - 592s 1s/step - loss: 0.0679 - accuracy: 0.9792 - val_loss: 0.1277 - val_accuracy: 0.9752\n",
      "\n",
      "Epoch 00029: val_loss did not improve from 0.06180\n",
      "Epoch 30/30\n",
      "546/546 [==============================] - 615s 1s/step - loss: 0.1171 - accuracy: 0.9724 - val_loss: 0.1411 - val_accuracy: 0.9685\n",
      "\n",
      "Epoch 00030: val_loss did not improve from 0.06180\n"
     ]
    }
   ],
   "source": [
    "history=model.fit(X,Y,batch_size=20,validation_data=(X_val,Y_val),epochs= 30,\n",
    "                 callbacks=[check_point])"
   ]
  },
  {
   "cell_type": "code",
   "execution_count": 17,
   "metadata": {
    "scrolled": true
   },
   "outputs": [
    {
     "data": {
      "text/plain": [
       "<matplotlib.legend.Legend at 0x1fe23a08f10>"
      ]
     },
     "execution_count": 17,
     "metadata": {},
     "output_type": "execute_result"
    },
    {
     "data": {
      "image/png": "[encoded data removed]",
      "text/plain": [
       "<Figure size 576x288 with 1 Axes>"
      ]
     },
     "metadata": {
      "needs_background": "light"
     },
     "output_type": "display_data"
    }
   ],
   "source": [
    "plt.figure(1, figsize = (8, 4))\n",
    "plt.plot()\n",
    "plt.xlabel(\"Epochs\")\n",
    "plt.ylabel(\"Loss\")\n",
    "plt.plot( history.history[\"loss\"], label = \"Training Loss\")\n",
    "plt.plot( history.history[\"val_loss\"], label = \"Validation Loss\")\n",
    "plt.grid(True)\n",
    "plt.legend()"
   ]
  },
  {
   "cell_type": "code",
   "execution_count": 18,
   "metadata": {},
   "outputs": [
    {
     "data": {
      "text/plain": [
       "<matplotlib.legend.Legend at 0x1fe238d7250>"
      ]
     },
     "execution_count": 18,
     "metadata": {},
     "output_type": "execute_result"
    },
    {
     "data": {
      "image/png": "[encoded data removed]",
      "text/plain": [
       "<Figure size 576x288 with 1 Axes>"
      ]
     },
     "metadata": {
      "needs_background": "light"
     },
     "output_type": "display_data"
    }
   ],
   "source": [
    "plt.figure(1, figsize = (8, 4))\n",
    "plt.plot()\n",
    "plt.xlabel(\"Epochs\")\n",
    "plt.ylabel(\"Accuracy\")\n",
    "plt.plot( history.history[\"accuracy\"], label = \"Training Accuracy\")\n",
    "plt.plot( history.history[\"val_accuracy\"], label = \"Validation Accuracy\")\n",
    "plt.grid(True)\n",
    "plt.legend()"
   ]
  },
  {
   "cell_type": "code",
   "execution_count": 19,
   "metadata": {},
   "outputs": [
    {
     "name": "stdout",
     "output_type": "stream",
     "text": [
      "85/85 [==============================] - 21s 252ms/step - loss: 0.1411 - accuracy: 0.9685\n"
     ]
    },
    {
     "data": {
      "text/plain": [
       "[0.14107176661491394, 0.9684951901435852]"
      ]
     },
     "execution_count": 19,
     "metadata": {},
     "output_type": "execute_result"
    }
   ],
   "source": [
    "model.evaluate(X_val,Y_val)"
   ]
  },
  {
   "cell_type": "code",
   "execution_count": 20,
   "metadata": {},
   "outputs": [],
   "source": [
    "model.save('fruit_classification_v2.h5')"
   ]
  },
  {
   "cell_type": "code",
   "execution_count": 21,
   "metadata": {},
   "outputs": [],
   "source": [
    "import numpy as np \n",
    "import pandas as pd\n",
    "import os\n",
    "import cv2\n",
    "import matplotlib.pyplot as plt\n",
    "from tqdm import tqdm\n",
    "from random import shuffle\n",
    "from keras.utils  import to_categorical \n",
    "import pickle\n",
    "from tensorflow.keras.preprocessing import image\n",
    "from tensorflow.keras.optimizers import RMSprop"
   ]
  },
  {
   "cell_type": "code",
   "execution_count": 22,
   "metadata": {},
   "outputs": [],
   "source": [
    "from keras import models\n",
    "model = models.load_model('fruit_v2.h5')"
   ]
  },
  {
   "cell_type": "code",
   "execution_count": 23,
   "metadata": {},
   "outputs": [
    {
     "name": "stdout",
     "output_type": "stream",
     "text": [
      "85/85 [==============================] - 25s 261ms/step - loss: 0.0618 - accuracy: 0.9844\n"
     ]
    },
    {
     "data": {
      "text/plain": [
       "[0.06180496886372566, 0.9844329357147217]"
      ]
     },
     "execution_count": 23,
     "metadata": {},
     "output_type": "execute_result"
    }
   ],
   "source": [
    "model.evaluate(X_val,Y_val)"
   ]
  },
  {
   "cell_type": "code",
   "execution_count": 24,
   "metadata": {},
   "outputs": [
    {
     "data": {
      "text/plain": [
       "<matplotlib.legend.Legend at 0x1fe23d40f10>"
      ]
     },
     "execution_count": 24,
     "metadata": {},
     "output_type": "execute_result"
    },
    {
     "data": {
      "image/png": "[encoded data removed]",
      "text/plain": [
       "<Figure size 576x288 with 1 Axes>"
      ]
     },
     "metadata": {
      "needs_background": "light"
     },
     "output_type": "display_data"
    }
   ],
   "source": [
    "plt.figure(1, figsize = (8, 4))\n",
    "plt.plot()\n",
    "plt.xlabel(\"Epochs\")\n",
    "plt.ylabel(\"Loss\")\n",
    "plt.plot( history.history[\"loss\"], label = \"Training Loss\")\n",
    "plt.plot( history.history[\"val_loss\"], label = \"Validation Loss\")\n",
    "plt.grid(True)\n",
    "plt.legend()"
   ]
  },
  {
   "cell_type": "code",
   "execution_count": 25,
   "metadata": {
    "scrolled": true
   },
   "outputs": [
    {
     "data": {
      "text/plain": [
       "<matplotlib.legend.Legend at 0x1fe23db7400>"
      ]
     },
     "execution_count": 25,
     "metadata": {},
     "output_type": "execute_result"
    },
    {
     "data": {
      "image/png": "[encoded data removed]",
      "text/plain": [
       "<Figure size 576x288 with 1 Axes>"
      ]
     },
     "metadata": {
      "needs_background": "light"
     },
     "output_type": "display_data"
    }
   ],
   "source": [
    "plt.figure(1, figsize = (8, 4))\n",
    "plt.plot()\n",
    "plt.xlabel(\"Epochs\")\n",
    "plt.ylabel(\"Accuracy\")\n",
    "plt.plot( history.history[\"accuracy\"], label = \"Training Accuracy\")\n",
    "plt.plot( history.history[\"val_accuracy\"], label = \"Validation Accuracy\")\n",
    "plt.grid(True)\n",
    "plt.legend()"
   ]
  }
 ],
 "metadata": {
  "kernelspec": {
   "display_name": "Python 3",
   "language": "python",
   "name": "python3"
  },
  "language_info": {
   "codemirror_mode": {
    "name": "ipython",
    "version": 3
   },
   "file_extension": ".py",
   "mimetype": "text/x-python",
   "name": "python",
   "nbconvert_exporter": "python",
   "pygments_lexer": "ipython3",
   "version": "3.8.5"
  }
 },
 "nbformat": 4,
 "nbformat_minor": 4
}
