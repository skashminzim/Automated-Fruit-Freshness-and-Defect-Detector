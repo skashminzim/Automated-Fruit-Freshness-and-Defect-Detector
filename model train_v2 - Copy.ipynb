{
 "cells": [
  {
   "cell_type": "code",
   "execution_count": 1,
   "metadata": {},
   "outputs": [],
   "source": [
    "import numpy as np \n",
    "import pandas as pd\n",
    "import os\n",
    "import cv2\n",
    "import matplotlib.pyplot as plt\n",
    "from tqdm import tqdm\n",
    "from random import shuffle\n",
    "from keras.utils  import to_categorical\n",
    "import tensorflow as tf\n",
    "import pickle"
   ]
  },
  {
   "cell_type": "code",
   "execution_count": 2,
   "metadata": {},
   "outputs": [],
   "source": [
    "def load_rottenvsfresh():\n",
    "    quality=['freshapples', 'freshbanana', 'freshoranges', 'rottenapples', 'rottenbanana', 'rottenoranges']\n",
    "    X,Y=[],[]\n",
    "    z=[]\n",
    "    for cata in tqdm(os.listdir('train')):\n",
    "        if quality[0] in cata:\n",
    "            path_main=os.path.join('train',cata)\n",
    "            for img_name in os.listdir(path_main):\n",
    "                img=cv2.imread(os.path.join(path_main,img_name))\n",
    "                img=cv2.resize(img,(100,100))\n",
    "                img=cv2.cvtColor(img,cv2.COLOR_BGR2RGB)\n",
    "                z.append([img,0])\n",
    "        elif quality[1] in cata:\n",
    "            path_main=os.path.join('train',cata)\n",
    "            for img_name in os.listdir(path_main):\n",
    "                img=cv2.imread(os.path.join(path_main,img_name))\n",
    "                img=cv2.resize(img,(100,100))\n",
    "                img=cv2.cvtColor(img,cv2.COLOR_BGR2RGB)\n",
    "                z.append([img,1])\n",
    "        elif quality[2] in cata:\n",
    "            path_main=os.path.join('train',cata)\n",
    "            for img_name in os.listdir(path_main):\n",
    "                img=cv2.imread(os.path.join(path_main,img_name))\n",
    "                img=cv2.resize(img,(100,100))\n",
    "                img=cv2.cvtColor(img,cv2.COLOR_BGR2RGB)\n",
    "                z.append([img,2])\n",
    "        elif quality[3] in cata:\n",
    "            path_main=os.path.join('train',cata)\n",
    "            for img_name in os.listdir(path_main):\n",
    "                img=cv2.imread(os.path.join(path_main,img_name))\n",
    "                img=cv2.resize(img,(100,100))\n",
    "                img=cv2.cvtColor(img,cv2.COLOR_BGR2RGB)\n",
    "                z.append([img,3])\n",
    "        elif quality[4] in cata:\n",
    "            path_main=os.path.join('train',cata)\n",
    "            for img_name in os.listdir(path_main):\n",
    "                img=cv2.imread(os.path.join(path_main,img_name))\n",
    "                img=cv2.resize(img,(100,100))\n",
    "                img=cv2.cvtColor(img,cv2.COLOR_BGR2RGB)\n",
    "                z.append([img,4])\n",
    "        else:\n",
    "            path_main=os.path.join('train',cata)\n",
    "            for img_name in os.listdir(path_main):\n",
    "                img=cv2.imread(os.path.join(path_main,img_name))\n",
    "                img=cv2.resize(img,(100,100))\n",
    "                img=cv2.cvtColor(img,cv2.COLOR_BGR2RGB)\n",
    "                z.append([img,5])\n",
    "    print('Shuffling data.....')\n",
    "    shuffle(z)\n",
    "    for images, labels in tqdm(z):\n",
    "        X.append(images);Y.append(labels)\n",
    "    return X,Y"
   ]
  },
  {
   "cell_type": "code",
   "execution_count": 3,
   "metadata": {},
   "outputs": [
    {
     "name": "stderr",
     "output_type": "stream",
     "text": [
      "100%|████████████████████████████████████████████████████████████████████████████████████| 6/6 [05:21<00:00, 53.65s/it]\n",
      "100%|████████████████████████████████████████████████████████████████████████| 10920/10920 [00:00<00:00, 406372.16it/s]"
     ]
    },
    {
     "name": "stdout",
     "output_type": "stream",
     "text": [
      "Shuffling data.....\n"
     ]
    },
    {
     "name": "stderr",
     "output_type": "stream",
     "text": [
      "\n"
     ]
    }
   ],
   "source": [
    "X,Y=load_rottenvsfresh()"
   ]
  },
  {
   "cell_type": "code",
   "execution_count": 4,
   "metadata": {},
   "outputs": [
    {
     "data": {
      "text/plain": [
       "[(3, 2342), (4, 2224), (0, 1693), (5, 1595), (1, 1584), (2, 1482)]"
      ]
     },
     "execution_count": 4,
     "metadata": {},
     "output_type": "execute_result"
    }
   ],
   "source": [
    "from collections import Counter\n",
    "Y=np.array(Y)\n",
    "X=np.array(X)\n",
    "newData = Counter(Y)\n",
    "most_fruits = newData.most_common(6)\n",
    "most_fruits"
   ]
  },
  {
   "cell_type": "code",
   "execution_count": 5,
   "metadata": {},
   "outputs": [
    {
     "data": {
      "text/plain": [
       "(10920, 100, 100, 3)"
      ]
     },
     "execution_count": 5,
     "metadata": {},
     "output_type": "execute_result"
    }
   ],
   "source": [
    "X.shape"
   ]
  },
  {
   "cell_type": "code",
   "execution_count": 6,
   "metadata": {},
   "outputs": [],
   "source": [
    "def load_rottenvsfresh_test_valset():\n",
    "    quality=['freshapples', 'freshbanana', 'freshoranges', 'rottenapples', 'rottenbanana', 'rottenoranges']\n",
    "    X,Y=[],[]\n",
    "    z=[]\n",
    "    for cata in tqdm(os.listdir('test')):\n",
    "        if quality[0] in cata:\n",
    "            path_main=os.path.join('test',cata)\n",
    "            for img_name in os.listdir(path_main):\n",
    "                img=cv2.imread(os.path.join(path_main,img_name))\n",
    "                img=cv2.resize(img,(100,100))\n",
    "                img=cv2.cvtColor(img,cv2.COLOR_BGR2RGB)\n",
    "                z.append([img,0])\n",
    "        elif quality[1] in cata:\n",
    "            path_main=os.path.join('test',cata)\n",
    "            for img_name in os.listdir(path_main):\n",
    "                img=cv2.imread(os.path.join(path_main,img_name))\n",
    "                img=cv2.resize(img,(100,100))\n",
    "                img=cv2.cvtColor(img,cv2.COLOR_BGR2RGB)\n",
    "                z.append([img,1])\n",
    "        elif quality[2] in cata:\n",
    "            path_main=os.path.join('test',cata)\n",
    "            for img_name in os.listdir(path_main):\n",
    "                img=cv2.imread(os.path.join(path_main,img_name))\n",
    "                img=cv2.resize(img,(100,100))\n",
    "                img=cv2.cvtColor(img,cv2.COLOR_BGR2RGB)\n",
    "                z.append([img,2])\n",
    "        elif quality[3] in cata:\n",
    "            path_main=os.path.join('test',cata)\n",
    "            for img_name in os.listdir(path_main):\n",
    "                img=cv2.imread(os.path.join(path_main,img_name))\n",
    "                img=cv2.resize(img,(100,100))\n",
    "                img=cv2.cvtColor(img,cv2.COLOR_BGR2RGB)\n",
    "                z.append([img,3])\n",
    "        elif quality[4] in cata:\n",
    "            path_main=os.path.join('test',cata)\n",
    "            for img_name in os.listdir(path_main):\n",
    "                img=cv2.imread(os.path.join(path_main,img_name))\n",
    "                img=cv2.resize(img,(100,100))\n",
    "                img=cv2.cvtColor(img,cv2.COLOR_BGR2RGB)\n",
    "                z.append([img,4])\n",
    "        else:\n",
    "            path_main=os.path.join('test',cata)\n",
    "            for img_name in os.listdir(path_main):\n",
    "                img=cv2.imread(os.path.join(path_main,img_name))\n",
    "                img=cv2.resize(img,(100,100))\n",
    "                img=cv2.cvtColor(img,cv2.COLOR_BGR2RGB)\n",
    "                z.append([img,5])\n",
    "    print('Shuffling data.....')\n",
    "    shuffle(z)\n",
    "    for images, labels in tqdm(z):\n",
    "        X.append(images);Y.append(labels)\n",
    "    return X,Y"
   ]
  },
  {
   "cell_type": "code",
   "execution_count": 7,
   "metadata": {},
   "outputs": [
    {
     "name": "stderr",
     "output_type": "stream",
     "text": [
      "100%|████████████████████████████████████████████████████████████████████████████████████| 6/6 [01:17<00:00, 12.84s/it]\n",
      "100%|██████████████████████████████████████████████████████████████████████████████████████| 2698/2698 [00:00<?, ?it/s]"
     ]
    },
    {
     "name": "stdout",
     "output_type": "stream",
     "text": [
      "Shuffling data.....\n"
     ]
    },
    {
     "name": "stderr",
     "output_type": "stream",
     "text": [
      "\n"
     ]
    }
   ],
   "source": [
    "X_val,Y_val=load_rottenvsfresh_test_valset()"
   ]
  },
  {
   "cell_type": "code",
   "execution_count": 11,
   "metadata": {},
   "outputs": [],
   "source": [
    "from sklearn.model_selection import train_test_split\n",
    "X_val, X_test, Y_val, Y_test = train_test_split(X_val,Y_val, test_size=0.2, random_state=42)"
   ]
  },
  {
   "cell_type": "code",
   "execution_count": 12,
   "metadata": {},
   "outputs": [
    {
     "data": {
      "text/plain": [
       "[(3, 475), (4, 424), (5, 340), (0, 311), (2, 309), (1, 299)]"
      ]
     },
     "execution_count": 12,
     "metadata": {},
     "output_type": "execute_result"
    }
   ],
   "source": [
    "Y_val=np.array(Y_val)\n",
    "X_val=np.array(X_val)\n",
    "newData = Counter(Y_val)\n",
    "most_fruits = newData.most_common(6)\n",
    "most_fruits"
   ]
  },
  {
   "cell_type": "code",
   "execution_count": 13,
   "metadata": {},
   "outputs": [
    {
     "data": {
      "text/plain": [
       "[(3, 126), (4, 106), (0, 84), (1, 82), (2, 79), (5, 63)]"
      ]
     },
     "execution_count": 13,
     "metadata": {},
     "output_type": "execute_result"
    }
   ],
   "source": [
    "Y_test=np.array(Y_test)\n",
    "X_test=np.array(X_test)\n",
    "newData = Counter(Y_test)\n",
    "most_fruits = newData.most_common(6)\n",
    "most_fruits"
   ]
  },
  {
   "cell_type": "code",
   "execution_count": 15,
   "metadata": {},
   "outputs": [
    {
     "data": {
      "text/plain": [
       "(2158, 100, 100, 3)"
      ]
     },
     "execution_count": 15,
     "metadata": {},
     "output_type": "execute_result"
    }
   ],
   "source": [
    "X_val.shape"
   ]
  },
  {
   "cell_type": "code",
   "execution_count": 16,
   "metadata": {},
   "outputs": [
    {
     "data": {
      "text/plain": [
       "(540, 100, 100, 3)"
      ]
     },
     "execution_count": 16,
     "metadata": {},
     "output_type": "execute_result"
    }
   ],
   "source": [
    "X_test.shape"
   ]
  },
  {
   "cell_type": "code",
   "execution_count": 17,
   "metadata": {},
   "outputs": [],
   "source": [
    "X=X/255.0\n",
    "X_val=X_val/255.0\n",
    "X_test=X_test/255.0"
   ]
  },
  {
   "cell_type": "code",
   "execution_count": 18,
   "metadata": {},
   "outputs": [],
   "source": [
    "Y=to_categorical(Y)\n",
    "Y_val=to_categorical(Y_val)\n",
    "Y_test=to_categorical(Y_test)"
   ]
  },
  {
   "cell_type": "code",
   "execution_count": 19,
   "metadata": {},
   "outputs": [
    {
     "data": {
      "text/plain": [
       "((10920, 6), (2158, 6))"
      ]
     },
     "execution_count": 19,
     "metadata": {},
     "output_type": "execute_result"
    }
   ],
   "source": [
    "Y.shape, Y_val.shape"
   ]
  },
  {
   "cell_type": "code",
   "execution_count": 20,
   "metadata": {},
   "outputs": [],
   "source": [
    "import keras \n",
    "from keras.layers import Dense,Dropout, Conv2D,MaxPooling2D , Activation, Flatten, BatchNormalization, SeparableConv2D\n",
    "from keras.models import Sequential"
   ]
  },
  {
   "cell_type": "code",
   "execution_count": 21,
   "metadata": {},
   "outputs": [
    {
     "name": "stdout",
     "output_type": "stream",
     "text": [
      "Model: \"sequential\"\n",
      "_________________________________________________________________\n",
      "Layer (type)                 Output Shape              Param #   \n",
      "=================================================================\n",
      "conv2d (Conv2D)              (None, 100, 100, 32)      896       \n",
      "_________________________________________________________________\n",
      "batch_normalization (BatchNo (None, 100, 100, 32)      128       \n",
      "_________________________________________________________________\n",
      "separable_conv2d (SeparableC (None, 100, 100, 64)      2400      \n",
      "_________________________________________________________________\n",
      "max_pooling2d (MaxPooling2D) (None, 50, 50, 64)        0         \n",
      "_________________________________________________________________\n",
      "dropout (Dropout)            (None, 50, 50, 64)        0         \n",
      "_________________________________________________________________\n",
      "separable_conv2d_1 (Separabl (None, 50, 50, 128)       8896      \n",
      "_________________________________________________________________\n",
      "batch_normalization_1 (Batch (None, 50, 50, 128)       512       \n",
      "_________________________________________________________________\n",
      "max_pooling2d_1 (MaxPooling2 (None, 25, 25, 128)       0         \n",
      "_________________________________________________________________\n",
      "dropout_1 (Dropout)          (None, 25, 25, 128)       0         \n",
      "_________________________________________________________________\n",
      "flatten (Flatten)            (None, 80000)             0         \n",
      "_________________________________________________________________\n",
      "dense (Dense)                (None, 128)               10240128  \n",
      "_________________________________________________________________\n",
      "dropout_2 (Dropout)          (None, 128)               0         \n",
      "_________________________________________________________________\n",
      "dense_1 (Dense)              (None, 6)                 774       \n",
      "=================================================================\n",
      "Total params: 10,253,734\n",
      "Trainable params: 10,253,414\n",
      "Non-trainable params: 320\n",
      "_________________________________________________________________\n"
     ]
    }
   ],
   "source": [
    "model = Sequential()\n",
    "\n",
    "model.add(Conv2D(32, (3, 3), kernel_initializer='he_uniform', padding='same', activation='relu', input_shape=(100,100,3)))\n",
    "model.add(BatchNormalization())\n",
    "model.add(SeparableConv2D(64, (3, 3), kernel_initializer='he_uniform', padding='same', activation='relu'))\n",
    "model.add(MaxPooling2D((2, 2)))\n",
    "model.add(Dropout(0.2))\n",
    "model.add(SeparableConv2D(128, (3, 3), kernel_initializer='he_uniform', padding='same', activation='relu'))\n",
    "model.add(BatchNormalization())\n",
    "model.add(MaxPooling2D((2, 2)))\n",
    "model.add(Dropout(0.3))\n",
    "\n",
    "model.add(Flatten())\n",
    "\n",
    "model.add(Dense(128, activation='relu', kernel_initializer='he_uniform'))\n",
    "model.add(Dropout(0.5))\n",
    "\n",
    "model.add(Dense(6, activation='softmax'))\n",
    "model.summary()"
   ]
  },
  {
   "cell_type": "code",
   "execution_count": 22,
   "metadata": {},
   "outputs": [],
   "source": [
    "lr_rate=keras.callbacks.ReduceLROnPlateau(\n",
    "    monitor='val_loss', factor=0.5, patience=6, verbose=1, mode='max',\n",
    "    min_lr=0.00002, cooldown=2)\n",
    "check_point=tf.keras.callbacks.ModelCheckpoint(\n",
    "    filepath='fruit_v2.h5', monitor='val_loss', verbose=1, save_best_only=True,\n",
    "    save_weights_only=False, mode='min')"
   ]
  },
  {
   "cell_type": "code",
   "execution_count": 23,
   "metadata": {},
   "outputs": [],
   "source": [
    "model.compile(loss=keras.losses.categorical_crossentropy, optimizer = keras.optimizers.Adam(lr = 0.001), metrics=['accuracy'])"
   ]
  },
  {
   "cell_type": "code",
   "execution_count": 24,
   "metadata": {},
   "outputs": [
    {
     "name": "stdout",
     "output_type": "stream",
     "text": [
      "Epoch 1/30\n",
      "546/546 [==============================] - 561s 966ms/step - loss: 1.3625 - accuracy: 0.6562 - val_loss: 0.4990 - val_accuracy: 0.8438\n",
      "\n",
      "Epoch 00001: val_loss improved from inf to 0.49904, saving model to fruit_v2.h5\n",
      "Epoch 2/30\n",
      "546/546 [==============================] - 556s 1s/step - loss: 0.3727 - accuracy: 0.8714 - val_loss: 0.2472 - val_accuracy: 0.9133\n",
      "\n",
      "Epoch 00002: val_loss improved from 0.49904 to 0.24719, saving model to fruit_v2.h5\n",
      "Epoch 3/30\n",
      "546/546 [==============================] - 558s 1s/step - loss: 0.2571 - accuracy: 0.9104 - val_loss: 0.4026 - val_accuracy: 0.8888\n",
      "\n",
      "Epoch 00003: val_loss did not improve from 0.24719\n",
      "Epoch 4/30\n",
      "546/546 [==============================] - 547s 1s/step - loss: 0.2550 - accuracy: 0.9123 - val_loss: 0.3025 - val_accuracy: 0.9064\n",
      "\n",
      "Epoch 00004: val_loss did not improve from 0.24719\n",
      "Epoch 5/30\n",
      "546/546 [==============================] - 556s 1s/step - loss: 0.1984 - accuracy: 0.9297 - val_loss: 0.1614 - val_accuracy: 0.9458\n",
      "\n",
      "Epoch 00005: val_loss improved from 0.24719 to 0.16138, saving model to fruit_v2.h5\n",
      "Epoch 6/30\n",
      "546/546 [==============================] - 571s 1s/step - loss: 0.1866 - accuracy: 0.9361 - val_loss: 0.1172 - val_accuracy: 0.9615\n",
      "\n",
      "Epoch 00006: val_loss improved from 0.16138 to 0.11725, saving model to fruit_v2.h5\n",
      "Epoch 7/30\n",
      "546/546 [==============================] - 496s 907ms/step - loss: 0.1478 - accuracy: 0.9544 - val_loss: 0.3829 - val_accuracy: 0.9124\n",
      "\n",
      "Epoch 00007: val_loss did not improve from 0.11725\n",
      "Epoch 8/30\n",
      "546/546 [==============================] - 487s 891ms/step - loss: 0.1517 - accuracy: 0.9509 - val_loss: 0.1232 - val_accuracy: 0.9648\n",
      "\n",
      "Epoch 00008: val_loss did not improve from 0.11725\n",
      "Epoch 9/30\n",
      "546/546 [==============================] - 485s 888ms/step - loss: 0.1450 - accuracy: 0.9486 - val_loss: 0.1569 - val_accuracy: 0.9574\n",
      "\n",
      "Epoch 00009: val_loss did not improve from 0.11725\n",
      "Epoch 10/30\n",
      "546/546 [==============================] - 495s 908ms/step - loss: 0.1258 - accuracy: 0.9596 - val_loss: 0.2425 - val_accuracy: 0.9462\n",
      "\n",
      "Epoch 00010: val_loss did not improve from 0.11725\n",
      "Epoch 11/30\n",
      "546/546 [==============================] - 540s 989ms/step - loss: 0.1544 - accuracy: 0.9535 - val_loss: 0.1773 - val_accuracy: 0.9416\n",
      "\n",
      "Epoch 00011: val_loss did not improve from 0.11725\n",
      "Epoch 12/30\n",
      "546/546 [==============================] - 548s 1s/step - loss: 0.1081 - accuracy: 0.9664 - val_loss: 0.0932 - val_accuracy: 0.9727\n",
      "\n",
      "Epoch 00012: val_loss improved from 0.11725 to 0.09324, saving model to fruit_v2.h5\n",
      "Epoch 13/30\n",
      "546/546 [==============================] - 533s 977ms/step - loss: 0.0925 - accuracy: 0.9692 - val_loss: 0.1873 - val_accuracy: 0.9523\n",
      "\n",
      "Epoch 00013: val_loss did not improve from 0.09324\n",
      "Epoch 14/30\n",
      "546/546 [==============================] - 535s 980ms/step - loss: 0.0919 - accuracy: 0.9697 - val_loss: 0.1333 - val_accuracy: 0.9639\n",
      "\n",
      "Epoch 00014: val_loss did not improve from 0.09324\n",
      "Epoch 15/30\n",
      "546/546 [==============================] - 546s 999ms/step - loss: 0.1144 - accuracy: 0.9670 - val_loss: 0.1616 - val_accuracy: 0.9648\n",
      "\n",
      "Epoch 00015: val_loss did not improve from 0.09324\n",
      "Epoch 16/30\n",
      "546/546 [==============================] - 534s 978ms/step - loss: 0.1418 - accuracy: 0.9600 - val_loss: 0.0801 - val_accuracy: 0.9810\n",
      "\n",
      "Epoch 00016: val_loss improved from 0.09324 to 0.08009, saving model to fruit_v2.h5\n",
      "Epoch 17/30\n",
      "546/546 [==============================] - 551s 1s/step - loss: 0.0853 - accuracy: 0.9717 - val_loss: 0.1365 - val_accuracy: 0.9680\n",
      "\n",
      "Epoch 00017: val_loss did not improve from 0.08009\n",
      "Epoch 18/30\n",
      "546/546 [==============================] - 508s 930ms/step - loss: 0.1220 - accuracy: 0.9672 - val_loss: 0.3015 - val_accuracy: 0.9435\n",
      "\n",
      "Epoch 00018: val_loss did not improve from 0.08009\n",
      "Epoch 19/30\n",
      "546/546 [==============================] - 484s 887ms/step - loss: 0.1215 - accuracy: 0.9663 - val_loss: 0.4719 - val_accuracy: 0.9374\n",
      "\n",
      "Epoch 00019: val_loss did not improve from 0.08009\n",
      "Epoch 20/30\n",
      "546/546 [==============================] - 539s 987ms/step - loss: 0.0841 - accuracy: 0.9759 - val_loss: 0.2549 - val_accuracy: 0.9425\n",
      "\n",
      "Epoch 00020: val_loss did not improve from 0.08009\n",
      "Epoch 21/30\n",
      "546/546 [==============================] - 558s 1s/step - loss: 0.1597 - accuracy: 0.9647 - val_loss: 0.0900 - val_accuracy: 0.9782\n",
      "\n",
      "Epoch 00021: val_loss did not improve from 0.08009\n",
      "Epoch 22/30\n",
      "546/546 [==============================] - 554s 1s/step - loss: 0.0931 - accuracy: 0.9768 - val_loss: 0.1138 - val_accuracy: 0.9754\n",
      "\n",
      "Epoch 00022: val_loss did not improve from 0.08009\n",
      "Epoch 23/30\n",
      "546/546 [==============================] - 487s 892ms/step - loss: 0.1285 - accuracy: 0.9683 - val_loss: 0.0892 - val_accuracy: 0.9810\n",
      "\n",
      "Epoch 00023: val_loss did not improve from 0.08009\n",
      "Epoch 24/30\n",
      "546/546 [==============================] - 495s 906ms/step - loss: 0.1832 - accuracy: 0.9611 - val_loss: 0.2653 - val_accuracy: 0.9597\n",
      "\n",
      "Epoch 00024: val_loss did not improve from 0.08009\n",
      "Epoch 25/30\n",
      "546/546 [==============================] - 516s 945ms/step - loss: 0.0889 - accuracy: 0.9715 - val_loss: 0.2150 - val_accuracy: 0.9500\n",
      "\n",
      "Epoch 00025: val_loss did not improve from 0.08009\n",
      "Epoch 26/30\n",
      "546/546 [==============================] - 517s 946ms/step - loss: 0.0940 - accuracy: 0.9762 - val_loss: 0.1391 - val_accuracy: 0.9708\n",
      "\n",
      "Epoch 00026: val_loss did not improve from 0.08009\n",
      "Epoch 27/30\n",
      "546/546 [==============================] - 535s 980ms/step - loss: 0.0894 - accuracy: 0.9767 - val_loss: 0.0927 - val_accuracy: 0.9805\n",
      "\n",
      "Epoch 00027: val_loss did not improve from 0.08009\n",
      "Epoch 28/30\n",
      "546/546 [==============================] - 535s 979ms/step - loss: 0.0985 - accuracy: 0.9763 - val_loss: 0.1557 - val_accuracy: 0.9713\n",
      "\n",
      "Epoch 00028: val_loss did not improve from 0.08009\n",
      "Epoch 29/30\n",
      "546/546 [==============================] - 511s 937ms/step - loss: 0.1087 - accuracy: 0.9719 - val_loss: 0.1719 - val_accuracy: 0.9643\n",
      "\n",
      "Epoch 00029: val_loss did not improve from 0.08009\n",
      "Epoch 30/30\n",
      "546/546 [==============================] - 527s 966ms/step - loss: 0.1100 - accuracy: 0.9777 - val_loss: 0.1037 - val_accuracy: 0.9773\n",
      "\n",
      "Epoch 00030: val_loss did not improve from 0.08009\n"
     ]
    }
   ],
   "source": [
    "history=model.fit(X,Y,batch_size=20,validation_data=(X_val,Y_val),epochs= 30,\n",
    "                 callbacks=[check_point])"
   ]
  },
  {
   "cell_type": "code",
   "execution_count": 25,
   "metadata": {
    "scrolled": true
   },
   "outputs": [
    {
     "data": {
      "text/plain": [
       "<matplotlib.legend.Legend at 0x1ab33e77bb0>"
      ]
     },
     "execution_count": 25,
     "metadata": {},
     "output_type": "execute_result"
    },
    {
     "data": {
      "image/png": "[encoded data removed]",
      "text/plain": [
       "<Figure size 576x288 with 1 Axes>"
      ]
     },
     "metadata": {
      "needs_background": "light"
     },
     "output_type": "display_data"
    }
   ],
   "source": [
    "plt.figure(1, figsize = (8, 4))\n",
    "plt.plot()\n",
    "plt.xlabel(\"Epochs\")\n",
    "plt.ylabel(\"Loss\")\n",
    "plt.plot( history.history[\"loss\"], label = \"Training Loss\")\n",
    "plt.plot( history.history[\"val_loss\"], label = \"Validation Loss\")\n",
    "plt.grid(True)\n",
    "plt.legend()"
   ]
  },
  {
   "cell_type": "code",
   "execution_count": 26,
   "metadata": {},
   "outputs": [
    {
     "data": {
      "text/plain": [
       "<matplotlib.legend.Legend at 0x1ab2ff5af70>"
      ]
     },
     "execution_count": 26,
     "metadata": {},
     "output_type": "execute_result"
    },
    {
     "data": {
      "image/png": "[encoded data removed]",
      "text/plain": [
       "<Figure size 576x288 with 1 Axes>"
      ]
     },
     "metadata": {
      "needs_background": "light"
     },
     "output_type": "display_data"
    }
   ],
   "source": [
    "plt.figure(1, figsize = (8, 4))\n",
    "plt.plot()\n",
    "plt.xlabel(\"Epochs\")\n",
    "plt.ylabel(\"Accuracy\")\n",
    "plt.plot( history.history[\"accuracy\"], label = \"Training Accuracy\")\n",
    "plt.plot( history.history[\"val_accuracy\"], label = \"Validation Accuracy\")\n",
    "plt.grid(True)\n",
    "plt.legend()"
   ]
  },
  {
   "cell_type": "code",
   "execution_count": 27,
   "metadata": {},
   "outputs": [
    {
     "name": "stdout",
     "output_type": "stream",
     "text": [
      "17/17 [==============================] - 4s 232ms/step - loss: 0.0848 - accuracy: 0.9741\n"
     ]
    },
    {
     "data": {
      "text/plain": [
       "[0.08478512614965439, 0.9740740656852722]"
      ]
     },
     "execution_count": 27,
     "metadata": {},
     "output_type": "execute_result"
    }
   ],
   "source": [
    "model.evaluate(X_test,Y_test)"
   ]
  },
  {
   "cell_type": "code",
   "execution_count": 28,
   "metadata": {},
   "outputs": [],
   "source": [
    "model.save('fruit_classification_p.h5')"
   ]
  },
  {
   "cell_type": "code",
   "execution_count": 29,
   "metadata": {},
   "outputs": [],
   "source": [
    "import numpy as np \n",
    "import pandas as pd\n",
    "import os\n",
    "import cv2\n",
    "import matplotlib.pyplot as plt\n",
    "from tqdm import tqdm\n",
    "from random import shuffle\n",
    "from keras.utils  import to_categorical \n",
    "import pickle\n",
    "from tensorflow.keras.preprocessing import image\n",
    "from tensorflow.keras.optimizers import RMSprop"
   ]
  },
  {
   "cell_type": "code",
   "execution_count": 35,
   "metadata": {},
   "outputs": [],
   "source": [
    "from keras import models\n",
    "model = models.load_model('fruit_v2.h5')"
   ]
  },
  {
   "cell_type": "code",
   "execution_count": 36,
   "metadata": {},
   "outputs": [
    {
     "name": "stdout",
     "output_type": "stream",
     "text": [
      "17/17 [==============================] - 4s 178ms/step - loss: 0.0921 - accuracy: 0.9741\n"
     ]
    },
    {
     "data": {
      "text/plain": [
       "[0.09214732050895691, 0.9740740656852722]"
      ]
     },
     "execution_count": 36,
     "metadata": {},
     "output_type": "execute_result"
    }
   ],
   "source": [
    "model.evaluate(X_test,Y_test)"
   ]
  },
  {
   "cell_type": "code",
   "execution_count": 33,
   "metadata": {},
   "outputs": [
    {
     "data": {
      "text/plain": [
       "<matplotlib.legend.Legend at 0x1ab339b9130>"
      ]
     },
     "execution_count": 33,
     "metadata": {},
     "output_type": "execute_result"
    },
    {
     "data": {
      "image/png": "[encoded data removed]",
      "text/plain": [
       "<Figure size 576x288 with 1 Axes>"
      ]
     },
     "metadata": {
      "needs_background": "light"
     },
     "output_type": "display_data"
    }
   ],
   "source": [
    "plt.figure(1, figsize = (8, 4))\n",
    "plt.plot()\n",
    "plt.xlabel(\"Epochs\")\n",
    "plt.ylabel(\"Loss\")\n",
    "plt.plot( history.history[\"loss\"], label = \"Training Loss\")\n",
    "plt.plot( history.history[\"val_loss\"], label = \"Validation Loss\")\n",
    "plt.grid(True)\n",
    "plt.legend()"
   ]
  },
  {
   "cell_type": "code",
   "execution_count": 34,
   "metadata": {
    "scrolled": true
   },
   "outputs": [
    {
     "data": {
      "text/plain": [
       "<matplotlib.legend.Legend at 0x1ab33b73790>"
      ]
     },
     "execution_count": 34,
     "metadata": {},
     "output_type": "execute_result"
    },
    {
     "data": {
      "image/png": "[encoded data removed]",
      "text/plain": [
       "<Figure size 576x288 with 1 Axes>"
      ]
     },
     "metadata": {
      "needs_background": "light"
     },
     "output_type": "display_data"
    }
   ],
   "source": [
    "plt.figure(1, figsize = (8, 4))\n",
    "plt.plot()\n",
    "plt.xlabel(\"Epochs\")\n",
    "plt.ylabel(\"Accuracy\")\n",
    "plt.plot( history.history[\"accuracy\"], label = \"Training Accuracy\")\n",
    "plt.plot( history.history[\"val_accuracy\"], label = \"Validation Accuracy\")\n",
    "plt.grid(True)\n",
    "plt.legend()"
   ]
  },
  {
   "cell_type": "code",
   "execution_count": 43,
   "metadata": {},
   "outputs": [],
   "source": [
    "from sklearn.metrics import confusion_matrix\n",
    "\n",
    "y_pred = model.predict(X_test)\n"
   ]
  },
  {
   "cell_type": "code",
   "execution_count": 45,
   "metadata": {},
   "outputs": [],
   "source": [
    "conf = confusion_matrix(Y_test.argmax(axis=1), y_pred.argmax(axis=1))"
   ]
  },
  {
   "cell_type": "code",
   "execution_count": 46,
   "metadata": {},
   "outputs": [
    {
     "name": "stdout",
     "output_type": "stream",
     "text": [
      "Confusion Matrix\n",
      "\n",
      "[[ 84   0   0   0   0   0]\n",
      " [  0  82   0   0   0   0]\n",
      " [  0   0  76   0   1   2]\n",
      " [  7   0   0 119   0   0]\n",
      " [  0   0   0   0 105   1]\n",
      " [  0   1   1   1   0  60]]\n"
     ]
    }
   ],
   "source": [
    "print('Confusion Matrix\\n')\n",
    "print(conf)"
   ]
  },
  {
   "cell_type": "code",
   "execution_count": 52,
   "metadata": {},
   "outputs": [
    {
     "name": "stdout",
     "output_type": "stream",
     "text": [
      "\n",
      "Accuracy: 0.97\n",
      "\n",
      "Micro Precision: 0.97\n",
      "Micro Recall: 0.97\n",
      "Micro F1-score: 0.97\n",
      "\n",
      "Macro Precision: 0.97\n",
      "Macro Recall: 0.97\n",
      "Macro F1-score: 0.97\n",
      "\n",
      "Weighted Precision: 0.97\n",
      "Weighted Recall: 0.97\n",
      "Weighted F1-score: 0.97\n"
     ]
    }
   ],
   "source": [
    "#importing accuracy_score, precision_score, recall_score, f1_score\n",
    "from sklearn.metrics import accuracy_score, precision_score, recall_score, f1_score\n",
    "print('\\nAccuracy: {:.2f}\\n'.format(accuracy_score(Y_test.argmax(axis=1), y_pred.argmax(axis=1))))\n",
    "\n",
    "print('Micro Precision: {:.2f}'.format(precision_score(Y_test.argmax(axis=1), y_pred.argmax(axis=1), average='micro')))\n",
    "print('Micro Recall: {:.2f}'.format(recall_score(Y_test.argmax(axis=1), y_pred.argmax(axis=1), average='micro')))\n",
    "print('Micro F1-score: {:.2f}\\n'.format(f1_score(Y_test.argmax(axis=1), y_pred.argmax(axis=1), average='micro')))\n",
    "\n",
    "print('Macro Precision: {:.2f}'.format(precision_score(Y_test.argmax(axis=1), y_pred.argmax(axis=1), average='macro')))\n",
    "print('Macro Recall: {:.2f}'.format(recall_score(Y_test.argmax(axis=1), y_pred.argmax(axis=1), average='macro')))\n",
    "print('Macro F1-score: {:.2f}\\n'.format(f1_score(Y_test.argmax(axis=1), y_pred.argmax(axis=1), average='macro')))\n",
    "\n",
    "print('Weighted Precision: {:.2f}'.format(precision_score(Y_test.argmax(axis=1), y_pred.argmax(axis=1), average='weighted')))\n",
    "print('Weighted Recall: {:.2f}'.format(recall_score(Y_test.argmax(axis=1), y_pred.argmax(axis=1), average='weighted')))\n",
    "print('Weighted F1-score: {:.2f}'.format(f1_score(Y_test.argmax(axis=1), y_pred.argmax(axis=1), average='weighted')))"
   ]
  },
  {
   "cell_type": "code",
   "execution_count": 50,
   "metadata": {},
   "outputs": [
    {
     "name": "stdout",
     "output_type": "stream",
     "text": [
      "\n",
      "Classification Report\n",
      "\n",
      "               precision    recall  f1-score   support\n",
      "\n",
      "  Fresh Apple       0.92      1.00      0.96        84\n",
      " Fresh Banana       0.99      1.00      0.99        82\n",
      " Fresh Orange       0.99      0.96      0.97        79\n",
      " Rotten Apple       0.99      0.94      0.97       126\n",
      "Rotten Banana       0.99      0.99      0.99       106\n",
      "Rotten Orange       0.95      0.95      0.95        63\n",
      "\n",
      "     accuracy                           0.97       540\n",
      "    macro avg       0.97      0.97      0.97       540\n",
      " weighted avg       0.97      0.97      0.97       540\n",
      "\n"
     ]
    }
   ],
   "source": [
    "from sklearn.metrics import classification_report\n",
    "print('\\nClassification Report\\n')\n",
    "print(classification_report(Y_test.argmax(axis=1), y_pred.argmax(axis=1), target_names=['Fresh Apple', 'Fresh Banana', 'Fresh Orange', 'Rotten Apple', 'Rotten Banana', 'Rotten Orange']))"
   ]
  },
  {
   "cell_type": "code",
   "execution_count": null,
   "metadata": {},
   "outputs": [],
   "source": []
  }
 ],
 "metadata": {
  "kernelspec": {
   "display_name": "Python 3",
   "language": "python",
   "name": "python3"
  },
  "language_info": {
   "codemirror_mode": {
    "name": "ipython",
    "version": 3
   },
   "file_extension": ".py",
   "mimetype": "text/x-python",
   "name": "python",
   "nbconvert_exporter": "python",
   "pygments_lexer": "ipython3",
   "version": "3.8.5"
  }
 },
 "nbformat": 4,
 "nbformat_minor": 4
}
