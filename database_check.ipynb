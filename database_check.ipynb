{
 "cells": [
  {
   "cell_type": "code",
   "execution_count": 1,
   "metadata": {},
   "outputs": [],
   "source": [
    "#import pandas as pd"
   ]
  },
  {
   "cell_type": "code",
   "execution_count": 1,
   "metadata": {},
   "outputs": [
    {
     "name": "stdout",
     "output_type": "stream",
     "text": [
      "Collecting mysql-connector-python\n",
      "  Using cached mysql_connector_python-8.0.25-cp38-cp38-win_amd64.whl (794 kB)\n",
      "Requirement already satisfied: protobuf>=3.0.0 in d:\\anaconda3\\lib\\site-packages (from mysql-connector-python) (3.15.8)\n",
      "Requirement already satisfied: six>=1.9 in d:\\anaconda3\\lib\\site-packages (from protobuf>=3.0.0->mysql-connector-python) (1.15.0)\n",
      "Installing collected packages: mysql-connector-python\n",
      "Successfully installed mysql-connector-python-8.0.25\n",
      "Note: you may need to restart the kernel to use updated packages.\n"
     ]
    },
    {
     "name": "stderr",
     "output_type": "stream",
     "text": [
      "WARNING: Ignoring invalid distribution -ip (d:\\anaconda3\\lib\\site-packages)\n",
      "WARNING: Ignoring invalid distribution -ip (d:\\anaconda3\\lib\\site-packages)\n",
      "WARNING: Ignoring invalid distribution -ip (d:\\anaconda3\\lib\\site-packages)\n",
      "WARNING: Ignoring invalid distribution -ip (d:\\anaconda3\\lib\\site-packages)\n",
      "WARNING: Ignoring invalid distribution -ip (d:\\anaconda3\\lib\\site-packages)\n",
      "WARNING: Ignoring invalid distribution -ip (d:\\anaconda3\\lib\\site-packages)\n"
     ]
    }
   ],
   "source": [
    "#pip install mysql-connector-python"
   ]
  },
  {
   "cell_type": "code",
   "execution_count": null,
   "metadata": {},
   "outputs": [],
   "source": [
    "#conda install -c anaconda mysql-connector-python"
   ]
  },
  {
   "cell_type": "code",
   "execution_count": 1,
   "metadata": {},
   "outputs": [],
   "source": [
    "import mysql.connector"
   ]
  },
  {
   "cell_type": "code",
   "execution_count": 3,
   "metadata": {},
   "outputs": [
    {
     "name": "stdout",
     "output_type": "stream",
     "text": [
      "Current date is: 2021-06-04\n"
     ]
    }
   ],
   "source": [
    "cnx = mysql.connector.connect(\n",
    "    host=\"localhost\",\n",
    "    port=3310,\n",
    "    user=\"root\",\n",
    "    password=\"\")\n",
    "\n",
    "# Get a cursor\n",
    "cur = cnx.cursor()\n",
    "cur.execute(\"SELECT CURDATE()\")\n",
    "\n",
    "# Fetch one result\n",
    "row = cur.fetchone()\n",
    "print(\"Current date is: {0}\".format(row[0]))\n",
    "\n",
    "# Close connection\n",
    "cnx.close()"
   ]
  },
  {
   "cell_type": "code",
   "execution_count": 10,
   "metadata": {},
   "outputs": [
    {
     "name": "stdout",
     "output_type": "stream",
     "text": [
      "('B6', 'Apple', '5', '2', '3', datetime.date(2021, 4, 18))\n",
      "('B7', 'Banana', '5', '2', '3', datetime.date(2021, 4, 18))\n",
      "('B8', 'Orange', '5', '2', '3', datetime.date(2021, 4, 18))\n",
      "('B9', 'Apple', '5', '2', '3', datetime.date(2021, 4, 19))\n",
      "('B10', 'Banana', '5', '2', '3', datetime.date(2021, 4, 19))\n",
      "('B11', 'Orange', '5', '2', '3', datetime.date(2021, 4, 19))\n"
     ]
    }
   ],
   "source": [
    "cnx = mysql.connector.connect(\n",
    "    host=\"localhost\",\n",
    "    port=3310,\n",
    "    user=\"root\",\n",
    "    password=\"\",\n",
    "    db=\"afdd\")\n",
    "cur = cnx.cursor()\n",
    "cur.execute(\"SELECT * FROM `stats_fruit`\")\n",
    "#print(cur.description)\n",
    "#print()\n",
    "for row in cur:\n",
    "    print(row)\n",
    "    \n",
    "# Close connection\n",
    "cnx.close()"
   ]
  },
  {
   "cell_type": "code",
   "execution_count": 38,
   "metadata": {},
   "outputs": [
    {
     "name": "stdout",
     "output_type": "stream",
     "text": [
      "number: (1,)\n"
     ]
    }
   ],
   "source": [
    "#SELECT COUNT(*) FROM `stats_fruit` WHERE `Fruit Name`=\"Apple\" and `Date of Processing`=\"2021-04-19\"\n",
    "cnx = mysql.connector.connect(\n",
    "    host=\"localhost\",\n",
    "    port=3310,\n",
    "    user=\"root\",\n",
    "    password=\"\",\n",
    "    db=\"afdd\")\n",
    "cur = cnx.cursor()\n",
    "cur.execute(\"SELECT COUNT(*) FROM `stats_fruit` WHERE `Fruit Name`='Apple' and `Date of Processing`='2021-04-19'\")\n",
    "#print(cur.description)\n",
    "myresult = cur.fetchall()\n",
    "result=myresult[0]\n",
    "print(\"number: {0}\".format(myresult[0]))\n",
    "cnx.close()"
   ]
  },
  {
   "cell_type": "code",
   "execution_count": 55,
   "metadata": {},
   "outputs": [
    {
     "name": "stdout",
     "output_type": "stream",
     "text": [
      "not Zero\n"
     ]
    }
   ],
   "source": [
    "cnx = mysql.connector.connect(\n",
    "    host=\"localhost\",\n",
    "    port=3310,\n",
    "    user=\"root\",\n",
    "    password=\"\",\n",
    "    db=\"afdd\")\n",
    "cur = cnx.cursor()\n",
    "cur.execute(\"SELECT COUNT(*) FROM `stats_fruit` WHERE `Fruit Name`='Apple' and `Date of Processing`='2021-04-19'\")\n",
    "count_row = cur.fetchone()\n",
    "count = count_row[0]\n",
    "if count == 0:\n",
    "    print(\"zero\")\n",
    "else:\n",
    "    print(\"not Zero\")"
   ]
  },
  {
   "cell_type": "code",
   "execution_count": 54,
   "metadata": {},
   "outputs": [
    {
     "name": "stdout",
     "output_type": "stream",
     "text": [
      "zero\n"
     ]
    }
   ],
   "source": [
    "cnx = mysql.connector.connect(\n",
    "    host=\"localhost\",\n",
    "    port=3310,\n",
    "    user=\"root\",\n",
    "    password=\"\",\n",
    "    db=\"afdd\")\n",
    "cur = cnx.cursor()\n",
    "cur.execute(\"SELECT COUNT(*) FROM `stats_fruit` WHERE `Fruit Name`='Apple' and `Date of Processing`= CURDATE()\")\n",
    "count_row = cur.fetchone()\n",
    "count = count_row[0]\n",
    "if count == 0:\n",
    "    print(\"zero\")\n",
    "else:\n",
    "    print(\"not Zero\")"
   ]
  },
  {
   "cell_type": "code",
   "execution_count": 14,
   "metadata": {},
   "outputs": [
    {
     "name": "stdout",
     "output_type": "stream",
     "text": [
      "not Zero\n"
     ]
    }
   ],
   "source": [
    "cnx = mysql.connector.connect(\n",
    "    host=\"localhost\",\n",
    "    port=3310,\n",
    "    user=\"root\",\n",
    "    password=\"\",\n",
    "    db=\"afdd\")\n",
    "cur = cnx.cursor()\n",
    "cur.execute(\"SELECT COUNT(*) FROM `record` WHERE `Fruit_Name`='Apple' and `Date_of_Processing`= CURDATE()\")\n",
    "count_row = cur.fetchone()\n",
    "count = count_row[0]\n",
    "from datetime import datetime\n",
    "now = datetime.now()\n",
    "formatted_date = now.strftime('%Y-%m-%d')\n",
    "if count == 0:\n",
    "    query=\"INSERT INTO record (`Fruit_Name`, `Total_Kgs`, `Usable_Kgs`, `Unusable_Kgs`, `Date_of_Processing`) VALUES ('Apple',5,2,3,CURDATE());\"\n",
    "    cur.execute(query)\n",
    "    cnx.commit()\n",
    "    print(\"one row inserted\")\n",
    "else:\n",
    "    query=\"UPDATE record SET Total_Kgs = Total_Kgs + 1, Usable_Kgs = Usable_Kgs + 1 WHERE `Date_of_Processing` = CURDATE() AND Fruit_Name = 'Apple'\";\n",
    "    cur.execute(query)\n",
    "    cnx.commit()\n",
    "    print(\"not Zero\")"
   ]
  },
  {
   "cell_type": "code",
   "execution_count": null,
   "metadata": {},
   "outputs": [],
   "source": []
  },
  {
   "cell_type": "code",
   "execution_count": null,
   "metadata": {},
   "outputs": [],
   "source": []
  }
 ],
 "metadata": {
  "kernelspec": {
   "display_name": "Python 3",
   "language": "python",
   "name": "python3"
  },
  "language_info": {
   "codemirror_mode": {
    "name": "ipython",
    "version": 3
   },
   "file_extension": ".py",
   "mimetype": "text/x-python",
   "name": "python",
   "nbconvert_exporter": "python",
   "pygments_lexer": "ipython3",
   "version": "3.8.5"
  }
 },
 "nbformat": 4,
 "nbformat_minor": 4
}
