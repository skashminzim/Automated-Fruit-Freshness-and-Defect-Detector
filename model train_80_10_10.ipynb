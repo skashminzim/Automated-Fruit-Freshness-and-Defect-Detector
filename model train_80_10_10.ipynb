{
 "cells": [
  {
   "cell_type": "code",
   "execution_count": 1,
   "metadata": {},
   "outputs": [],
   "source": [
    "import numpy as np \n",
    "import pandas as pd\n",
    "import os\n",
    "import cv2\n",
    "import matplotlib.pyplot as plt\n",
    "from tqdm import tqdm\n",
    "from random import shuffle\n",
    "from keras.utils  import to_categorical\n",
    "import tensorflow as tf\n",
    "import pickle"
   ]
  },
  {
   "cell_type": "code",
   "execution_count": 2,
   "metadata": {},
   "outputs": [],
   "source": [
    "def load_rottenvsfresh():\n",
    "    quality=['freshapples', 'freshbanana', 'freshoranges', 'rottenapples', 'rottenbanana', 'rottenoranges']\n",
    "    X,Y=[],[]\n",
    "    z=[]\n",
    "    for cata in tqdm(os.listdir('train')):\n",
    "        if quality[0] in cata:\n",
    "            path_main=os.path.join('train',cata)\n",
    "            for img_name in os.listdir(path_main):\n",
    "                img=cv2.imread(os.path.join(path_main,img_name))\n",
    "                img=cv2.resize(img,(100,100))\n",
    "                img=cv2.cvtColor(img,cv2.COLOR_BGR2RGB)\n",
    "                z.append([img,0])\n",
    "        elif quality[1] in cata:\n",
    "            path_main=os.path.join('train',cata)\n",
    "            for img_name in os.listdir(path_main):\n",
    "                img=cv2.imread(os.path.join(path_main,img_name))\n",
    "                img=cv2.resize(img,(100,100))\n",
    "                img=cv2.cvtColor(img,cv2.COLOR_BGR2RGB)\n",
    "                z.append([img,1])\n",
    "        elif quality[2] in cata:\n",
    "            path_main=os.path.join('train',cata)\n",
    "            for img_name in os.listdir(path_main):\n",
    "                img=cv2.imread(os.path.join(path_main,img_name))\n",
    "                img=cv2.resize(img,(100,100))\n",
    "                img=cv2.cvtColor(img,cv2.COLOR_BGR2RGB)\n",
    "                z.append([img,2])\n",
    "        elif quality[3] in cata:\n",
    "            path_main=os.path.join('train',cata)\n",
    "            for img_name in os.listdir(path_main):\n",
    "                img=cv2.imread(os.path.join(path_main,img_name))\n",
    "                img=cv2.resize(img,(100,100))\n",
    "                img=cv2.cvtColor(img,cv2.COLOR_BGR2RGB)\n",
    "                z.append([img,3])\n",
    "        elif quality[4] in cata:\n",
    "            path_main=os.path.join('train',cata)\n",
    "            for img_name in os.listdir(path_main):\n",
    "                img=cv2.imread(os.path.join(path_main,img_name))\n",
    "                img=cv2.resize(img,(100,100))\n",
    "                img=cv2.cvtColor(img,cv2.COLOR_BGR2RGB)\n",
    "                z.append([img,4])\n",
    "        else:\n",
    "            path_main=os.path.join('train',cata)\n",
    "            for img_name in os.listdir(path_main):\n",
    "                img=cv2.imread(os.path.join(path_main,img_name))\n",
    "                img=cv2.resize(img,(100,100))\n",
    "                img=cv2.cvtColor(img,cv2.COLOR_BGR2RGB)\n",
    "                z.append([img,5])\n",
    "    print('Shuffling data.....')\n",
    "    shuffle(z)\n",
    "    for images, labels in tqdm(z):\n",
    "        X.append(images);Y.append(labels)\n",
    "    return X,Y"
   ]
  },
  {
   "cell_type": "code",
   "execution_count": 3,
   "metadata": {},
   "outputs": [
    {
     "name": "stderr",
     "output_type": "stream",
     "text": [
      "100%|████████████████████████████████████████████████████████████████████████████████████| 6/6 [05:20<00:00, 53.43s/it]\n",
      "100%|████████████████████████████████████████████████████████████████████████| 10920/10920 [00:00<00:00, 285239.73it/s]"
     ]
    },
    {
     "name": "stdout",
     "output_type": "stream",
     "text": [
      "Shuffling data.....\n"
     ]
    },
    {
     "name": "stderr",
     "output_type": "stream",
     "text": [
      "\n"
     ]
    }
   ],
   "source": [
    "X,Y=load_rottenvsfresh()"
   ]
  },
  {
   "cell_type": "code",
   "execution_count": 4,
   "metadata": {},
   "outputs": [
    {
     "data": {
      "text/plain": [
       "[(3, 2342), (4, 2224), (0, 1693), (5, 1595), (1, 1584), (2, 1482)]"
      ]
     },
     "execution_count": 4,
     "metadata": {},
     "output_type": "execute_result"
    }
   ],
   "source": [
    "from collections import Counter\n",
    "Y=np.array(Y)\n",
    "X=np.array(X)\n",
    "newData = Counter(Y)\n",
    "most_fruits = newData.most_common(6)\n",
    "most_fruits"
   ]
  },
  {
   "cell_type": "code",
   "execution_count": 5,
   "metadata": {},
   "outputs": [
    {
     "data": {
      "text/plain": [
       "(10920, 100, 100, 3)"
      ]
     },
     "execution_count": 5,
     "metadata": {},
     "output_type": "execute_result"
    }
   ],
   "source": [
    "X.shape"
   ]
  },
  {
   "cell_type": "code",
   "execution_count": 6,
   "metadata": {},
   "outputs": [],
   "source": [
    "def load_rottenvsfresh_test_valset():\n",
    "    quality=['freshapples', 'freshbanana', 'freshoranges', 'rottenapples', 'rottenbanana', 'rottenoranges']\n",
    "    X,Y=[],[]\n",
    "    z=[]\n",
    "    for cata in tqdm(os.listdir('test')):\n",
    "        if quality[0] in cata:\n",
    "            path_main=os.path.join('test',cata)\n",
    "            for img_name in os.listdir(path_main):\n",
    "                img=cv2.imread(os.path.join(path_main,img_name))\n",
    "                img=cv2.resize(img,(100,100))\n",
    "                img=cv2.cvtColor(img,cv2.COLOR_BGR2RGB)\n",
    "                z.append([img,0])\n",
    "        elif quality[1] in cata:\n",
    "            path_main=os.path.join('test',cata)\n",
    "            for img_name in os.listdir(path_main):\n",
    "                img=cv2.imread(os.path.join(path_main,img_name))\n",
    "                img=cv2.resize(img,(100,100))\n",
    "                img=cv2.cvtColor(img,cv2.COLOR_BGR2RGB)\n",
    "                z.append([img,1])\n",
    "        elif quality[2] in cata:\n",
    "            path_main=os.path.join('test',cata)\n",
    "            for img_name in os.listdir(path_main):\n",
    "                img=cv2.imread(os.path.join(path_main,img_name))\n",
    "                img=cv2.resize(img,(100,100))\n",
    "                img=cv2.cvtColor(img,cv2.COLOR_BGR2RGB)\n",
    "                z.append([img,2])\n",
    "        elif quality[3] in cata:\n",
    "            path_main=os.path.join('test',cata)\n",
    "            for img_name in os.listdir(path_main):\n",
    "                img=cv2.imread(os.path.join(path_main,img_name))\n",
    "                img=cv2.resize(img,(100,100))\n",
    "                img=cv2.cvtColor(img,cv2.COLOR_BGR2RGB)\n",
    "                z.append([img,3])\n",
    "        elif quality[4] in cata:\n",
    "            path_main=os.path.join('test',cata)\n",
    "            for img_name in os.listdir(path_main):\n",
    "                img=cv2.imread(os.path.join(path_main,img_name))\n",
    "                img=cv2.resize(img,(100,100))\n",
    "                img=cv2.cvtColor(img,cv2.COLOR_BGR2RGB)\n",
    "                z.append([img,4])\n",
    "        else:\n",
    "            path_main=os.path.join('test',cata)\n",
    "            for img_name in os.listdir(path_main):\n",
    "                img=cv2.imread(os.path.join(path_main,img_name))\n",
    "                img=cv2.resize(img,(100,100))\n",
    "                img=cv2.cvtColor(img,cv2.COLOR_BGR2RGB)\n",
    "                z.append([img,5])\n",
    "    print('Shuffling data.....')\n",
    "    shuffle(z)\n",
    "    for images, labels in tqdm(z):\n",
    "        X.append(images);Y.append(labels)\n",
    "    return X,Y"
   ]
  },
  {
   "cell_type": "code",
   "execution_count": 7,
   "metadata": {},
   "outputs": [
    {
     "name": "stderr",
     "output_type": "stream",
     "text": [
      "100%|████████████████████████████████████████████████████████████████████████████████████| 6/6 [01:21<00:00, 13.62s/it]\n",
      "100%|██████████████████████████████████████████████████████████████████████████| 2698/2698 [00:00<00:00, 678838.16it/s]"
     ]
    },
    {
     "name": "stdout",
     "output_type": "stream",
     "text": [
      "Shuffling data.....\n"
     ]
    },
    {
     "name": "stderr",
     "output_type": "stream",
     "text": [
      "\n"
     ]
    }
   ],
   "source": [
    "X_val,Y_val=load_rottenvsfresh_test_valset()"
   ]
  },
  {
   "cell_type": "code",
   "execution_count": 8,
   "metadata": {},
   "outputs": [],
   "source": [
    "from sklearn.model_selection import train_test_split\n",
    "X_val, X_test, Y_val, Y_test = train_test_split(X_val,Y_val, test_size=0.5, random_state=42)"
   ]
  },
  {
   "cell_type": "code",
   "execution_count": 9,
   "metadata": {},
   "outputs": [
    {
     "data": {
      "text/plain": [
       "[(3, 307), (4, 265), (5, 209), (0, 198), (2, 190), (1, 180)]"
      ]
     },
     "execution_count": 9,
     "metadata": {},
     "output_type": "execute_result"
    }
   ],
   "source": [
    "Y_val=np.array(Y_val)\n",
    "X_val=np.array(X_val)\n",
    "newData = Counter(Y_val)\n",
    "most_fruits = newData.most_common(6)\n",
    "most_fruits"
   ]
  },
  {
   "cell_type": "code",
   "execution_count": 10,
   "metadata": {},
   "outputs": [
    {
     "data": {
      "text/plain": [
       "[(3, 294), (4, 265), (1, 201), (2, 198), (0, 197), (5, 194)]"
      ]
     },
     "execution_count": 10,
     "metadata": {},
     "output_type": "execute_result"
    }
   ],
   "source": [
    "Y_test=np.array(Y_test)\n",
    "X_test=np.array(X_test)\n",
    "newData = Counter(Y_test)\n",
    "most_fruits = newData.most_common(6)\n",
    "most_fruits"
   ]
  },
  {
   "cell_type": "code",
   "execution_count": 11,
   "metadata": {},
   "outputs": [
    {
     "data": {
      "text/plain": [
       "(1349, 100, 100, 3)"
      ]
     },
     "execution_count": 11,
     "metadata": {},
     "output_type": "execute_result"
    }
   ],
   "source": [
    "X_val.shape"
   ]
  },
  {
   "cell_type": "code",
   "execution_count": 12,
   "metadata": {},
   "outputs": [
    {
     "data": {
      "text/plain": [
       "(1349, 100, 100, 3)"
      ]
     },
     "execution_count": 12,
     "metadata": {},
     "output_type": "execute_result"
    }
   ],
   "source": [
    "X_test.shape"
   ]
  },
  {
   "cell_type": "code",
   "execution_count": 13,
   "metadata": {},
   "outputs": [],
   "source": [
    "X=X/255.0\n",
    "X_val=X_val/255.0\n",
    "X_test=X_test/255.0"
   ]
  },
  {
   "cell_type": "code",
   "execution_count": 14,
   "metadata": {},
   "outputs": [],
   "source": [
    "Y=to_categorical(Y)\n",
    "Y_val=to_categorical(Y_val)\n",
    "Y_test=to_categorical(Y_test)"
   ]
  },
  {
   "cell_type": "code",
   "execution_count": 15,
   "metadata": {},
   "outputs": [
    {
     "data": {
      "text/plain": [
       "((10920, 6), (1349, 6), (1349, 6))"
      ]
     },
     "execution_count": 15,
     "metadata": {},
     "output_type": "execute_result"
    }
   ],
   "source": [
    "Y.shape, Y_val.shape, Y_test.shape"
   ]
  },
  {
   "cell_type": "code",
   "execution_count": 16,
   "metadata": {},
   "outputs": [],
   "source": [
    "import keras \n",
    "from keras.layers import Dense,Dropout, Conv2D,MaxPooling2D , Activation, Flatten, BatchNormalization, SeparableConv2D\n",
    "from keras.models import Sequential"
   ]
  },
  {
   "cell_type": "code",
   "execution_count": 17,
   "metadata": {},
   "outputs": [
    {
     "name": "stdout",
     "output_type": "stream",
     "text": [
      "Model: \"sequential\"\n",
      "_________________________________________________________________\n",
      "Layer (type)                 Output Shape              Param #   \n",
      "=================================================================\n",
      "conv2d (Conv2D)              (None, 100, 100, 32)      896       \n",
      "_________________________________________________________________\n",
      "batch_normalization (BatchNo (None, 100, 100, 32)      128       \n",
      "_________________________________________________________________\n",
      "separable_conv2d (SeparableC (None, 100, 100, 64)      2400      \n",
      "_________________________________________________________________\n",
      "max_pooling2d (MaxPooling2D) (None, 50, 50, 64)        0         \n",
      "_________________________________________________________________\n",
      "dropout (Dropout)            (None, 50, 50, 64)        0         \n",
      "_________________________________________________________________\n",
      "separable_conv2d_1 (Separabl (None, 50, 50, 128)       8896      \n",
      "_________________________________________________________________\n",
      "batch_normalization_1 (Batch (None, 50, 50, 128)       512       \n",
      "_________________________________________________________________\n",
      "max_pooling2d_1 (MaxPooling2 (None, 25, 25, 128)       0         \n",
      "_________________________________________________________________\n",
      "dropout_1 (Dropout)          (None, 25, 25, 128)       0         \n",
      "_________________________________________________________________\n",
      "flatten (Flatten)            (None, 80000)             0         \n",
      "_________________________________________________________________\n",
      "dense (Dense)                (None, 128)               10240128  \n",
      "_________________________________________________________________\n",
      "dropout_2 (Dropout)          (None, 128)               0         \n",
      "_________________________________________________________________\n",
      "dense_1 (Dense)              (None, 6)                 774       \n",
      "=================================================================\n",
      "Total params: 10,253,734\n",
      "Trainable params: 10,253,414\n",
      "Non-trainable params: 320\n",
      "_________________________________________________________________\n"
     ]
    }
   ],
   "source": [
    "model = Sequential()\n",
    "\n",
    "model.add(Conv2D(32, (3, 3), kernel_initializer='he_uniform', padding='same', activation='relu', input_shape=(100,100,3)))\n",
    "model.add(BatchNormalization())\n",
    "model.add(SeparableConv2D(64, (3, 3), kernel_initializer='he_uniform', padding='same', activation='relu'))\n",
    "model.add(MaxPooling2D((2, 2)))\n",
    "model.add(Dropout(0.2))\n",
    "model.add(SeparableConv2D(128, (3, 3), kernel_initializer='he_uniform', padding='same', activation='relu'))\n",
    "model.add(BatchNormalization())\n",
    "model.add(MaxPooling2D((2, 2)))\n",
    "model.add(Dropout(0.3))\n",
    "\n",
    "model.add(Flatten())\n",
    "\n",
    "model.add(Dense(128, activation='relu', kernel_initializer='he_uniform'))\n",
    "model.add(Dropout(0.5))\n",
    "\n",
    "model.add(Dense(6, activation='softmax'))\n",
    "model.summary()"
   ]
  },
  {
   "cell_type": "code",
   "execution_count": 18,
   "metadata": {},
   "outputs": [],
   "source": [
    "lr_rate=keras.callbacks.ReduceLROnPlateau(\n",
    "    monitor='val_loss', factor=0.5, patience=6, verbose=1, mode='max',\n",
    "    min_lr=0.00002, cooldown=2)\n",
    "check_point=tf.keras.callbacks.ModelCheckpoint(\n",
    "    filepath='fruit_v2_1.h5', monitor='val_loss', verbose=1, save_best_only=True,\n",
    "    save_weights_only=False, mode='min')"
   ]
  },
  {
   "cell_type": "code",
   "execution_count": 19,
   "metadata": {},
   "outputs": [],
   "source": [
    "model.compile(loss=keras.losses.categorical_crossentropy, optimizer = keras.optimizers.Adam(lr = 0.001), metrics=['accuracy'])"
   ]
  },
  {
   "cell_type": "code",
   "execution_count": 20,
   "metadata": {},
   "outputs": [
    {
     "name": "stdout",
     "output_type": "stream",
     "text": [
      "Epoch 1/50\n",
      "546/546 [==============================] - 401s 478ms/step - loss: 1.6328 - accuracy: 0.6223 - val_loss: 0.5526 - val_accuracy: 0.8606\n",
      "\n",
      "Epoch 00001: val_loss improved from inf to 0.55260, saving model to fruit_v2_1.h5\n",
      "Epoch 2/50\n",
      "546/546 [==============================] - 183s 335ms/step - loss: 0.3714 - accuracy: 0.8688 - val_loss: 0.6420 - val_accuracy: 0.8273\n",
      "\n",
      "Epoch 00002: val_loss did not improve from 0.55260\n",
      "Epoch 3/50\n",
      "546/546 [==============================] - 181s 332ms/step - loss: 0.3337 - accuracy: 0.8883 - val_loss: 0.2419 - val_accuracy: 0.9118\n",
      "\n",
      "Epoch 00003: val_loss improved from 0.55260 to 0.24187, saving model to fruit_v2_1.h5\n",
      "Epoch 4/50\n",
      "546/546 [==============================] - 183s 336ms/step - loss: 0.2512 - accuracy: 0.9131 - val_loss: 0.4083 - val_accuracy: 0.8910\n",
      "\n",
      "Epoch 00004: val_loss did not improve from 0.24187\n",
      "Epoch 5/50\n",
      "546/546 [==============================] - 185s 338ms/step - loss: 0.2054 - accuracy: 0.9302 - val_loss: 0.3720 - val_accuracy: 0.8970\n",
      "\n",
      "Epoch 00005: val_loss did not improve from 0.24187\n",
      "Epoch 6/50\n",
      "546/546 [==============================] - 184s 336ms/step - loss: 0.1774 - accuracy: 0.9391 - val_loss: 0.1993 - val_accuracy: 0.9385\n",
      "\n",
      "Epoch 00006: val_loss improved from 0.24187 to 0.19934, saving model to fruit_v2_1.h5\n",
      "Epoch 7/50\n",
      "546/546 [==============================] - 180s 330ms/step - loss: 0.1517 - accuracy: 0.9487 - val_loss: 0.1223 - val_accuracy: 0.9563\n",
      "\n",
      "Epoch 00007: val_loss improved from 0.19934 to 0.12233, saving model to fruit_v2_1.h5\n",
      "Epoch 8/50\n",
      "546/546 [==============================] - 178s 326ms/step - loss: 0.1337 - accuracy: 0.9574 - val_loss: 0.1620 - val_accuracy: 0.9540\n",
      "\n",
      "Epoch 00008: val_loss did not improve from 0.12233\n",
      "Epoch 9/50\n",
      "546/546 [==============================] - 182s 333ms/step - loss: 0.1394 - accuracy: 0.9568 - val_loss: 0.0704 - val_accuracy: 0.9815\n",
      "\n",
      "Epoch 00009: val_loss improved from 0.12233 to 0.07042, saving model to fruit_v2_1.h5\n",
      "Epoch 10/50\n",
      "546/546 [==============================] - 183s 336ms/step - loss: 0.1396 - accuracy: 0.9594 - val_loss: 0.3950 - val_accuracy: 0.9333\n",
      "\n",
      "Epoch 00010: val_loss did not improve from 0.07042\n",
      "Epoch 11/50\n",
      "546/546 [==============================] - 182s 332ms/step - loss: 0.1261 - accuracy: 0.9615 - val_loss: 0.3950 - val_accuracy: 0.9051\n",
      "\n",
      "Epoch 00011: val_loss did not improve from 0.07042\n",
      "Epoch 12/50\n",
      "546/546 [==============================] - 180s 329ms/step - loss: 0.1447 - accuracy: 0.9597 - val_loss: 0.4988 - val_accuracy: 0.9044\n",
      "\n",
      "Epoch 00012: val_loss did not improve from 0.07042\n",
      "Epoch 13/50\n",
      "546/546 [==============================] - 181s 332ms/step - loss: 0.1238 - accuracy: 0.9598 - val_loss: 0.1293 - val_accuracy: 0.9703\n",
      "\n",
      "Epoch 00013: val_loss did not improve from 0.07042\n",
      "Epoch 14/50\n",
      "546/546 [==============================] - 177s 324ms/step - loss: 0.1179 - accuracy: 0.9645 - val_loss: 0.4841 - val_accuracy: 0.8947\n",
      "\n",
      "Epoch 00014: val_loss did not improve from 0.07042\n",
      "Epoch 15/50\n",
      "546/546 [==============================] - 180s 329ms/step - loss: 0.1219 - accuracy: 0.9654 - val_loss: 0.0873 - val_accuracy: 0.9718\n",
      "\n",
      "Epoch 00015: val_loss did not improve from 0.07042\n",
      "Epoch 16/50\n",
      "546/546 [==============================] - 182s 334ms/step - loss: 0.1029 - accuracy: 0.9692 - val_loss: 0.0870 - val_accuracy: 0.9711\n",
      "\n",
      "Epoch 00016: val_loss did not improve from 0.07042\n",
      "Epoch 17/50\n",
      "546/546 [==============================] - 185s 339ms/step - loss: 0.0781 - accuracy: 0.9775 - val_loss: 0.2312 - val_accuracy: 0.9362\n",
      "\n",
      "Epoch 00017: val_loss did not improve from 0.07042\n",
      "Epoch 18/50\n",
      "546/546 [==============================] - 186s 341ms/step - loss: 0.1543 - accuracy: 0.9627 - val_loss: 0.1112 - val_accuracy: 0.9726\n",
      "\n",
      "Epoch 00018: val_loss did not improve from 0.07042\n",
      "Epoch 19/50\n",
      "546/546 [==============================] - 176s 322ms/step - loss: 0.0840 - accuracy: 0.9751 - val_loss: 0.0835 - val_accuracy: 0.9785\n",
      "\n",
      "Epoch 00019: val_loss did not improve from 0.07042\n",
      "Epoch 20/50\n",
      "546/546 [==============================] - 178s 326ms/step - loss: 0.1141 - accuracy: 0.9711 - val_loss: 0.1013 - val_accuracy: 0.9778\n",
      "\n",
      "Epoch 00020: val_loss did not improve from 0.07042\n",
      "Epoch 21/50\n",
      "546/546 [==============================] - 180s 329ms/step - loss: 0.1065 - accuracy: 0.9729 - val_loss: 0.0549 - val_accuracy: 0.9807\n",
      "\n",
      "Epoch 00021: val_loss improved from 0.07042 to 0.05487, saving model to fruit_v2_1.h5\n",
      "Epoch 22/50\n",
      "546/546 [==============================] - 176s 323ms/step - loss: 0.1049 - accuracy: 0.9732 - val_loss: 0.1346 - val_accuracy: 0.9622\n",
      "\n",
      "Epoch 00022: val_loss did not improve from 0.05487\n",
      "Epoch 23/50\n",
      "546/546 [==============================] - 173s 317ms/step - loss: 0.0844 - accuracy: 0.9749 - val_loss: 0.1684 - val_accuracy: 0.9637\n",
      "\n",
      "Epoch 00023: val_loss did not improve from 0.05487\n",
      "Epoch 24/50\n",
      "546/546 [==============================] - 178s 327ms/step - loss: 0.1178 - accuracy: 0.9720 - val_loss: 0.0584 - val_accuracy: 0.9852\n",
      "\n",
      "Epoch 00024: val_loss did not improve from 0.05487\n",
      "Epoch 25/50\n",
      "546/546 [==============================] - 182s 333ms/step - loss: 0.0761 - accuracy: 0.9796 - val_loss: 0.1820 - val_accuracy: 0.9615\n",
      "\n",
      "Epoch 00025: val_loss did not improve from 0.05487\n",
      "Epoch 26/50\n",
      "546/546 [==============================] - 177s 325ms/step - loss: 0.0805 - accuracy: 0.9796 - val_loss: 0.1187 - val_accuracy: 0.9718\n",
      "\n",
      "Epoch 00026: val_loss did not improve from 0.05487\n",
      "Epoch 27/50\n",
      "546/546 [==============================] - 181s 332ms/step - loss: 0.0851 - accuracy: 0.9769 - val_loss: 0.1997 - val_accuracy: 0.9414\n",
      "\n",
      "Epoch 00027: val_loss did not improve from 0.05487\n",
      "Epoch 28/50\n",
      "546/546 [==============================] - 176s 323ms/step - loss: 0.0883 - accuracy: 0.9748 - val_loss: 0.6040 - val_accuracy: 0.8992\n",
      "\n",
      "Epoch 00028: val_loss did not improve from 0.05487\n",
      "Epoch 29/50\n",
      "546/546 [==============================] - 180s 330ms/step - loss: 0.1204 - accuracy: 0.9734 - val_loss: 0.1375 - val_accuracy: 0.9622\n",
      "\n",
      "Epoch 00029: val_loss did not improve from 0.05487\n",
      "Epoch 30/50\n",
      "546/546 [==============================] - 178s 327ms/step - loss: 0.0780 - accuracy: 0.9811 - val_loss: 0.0737 - val_accuracy: 0.9807\n",
      "\n",
      "Epoch 00030: val_loss did not improve from 0.05487\n",
      "Epoch 31/50\n",
      "546/546 [==============================] - 176s 322ms/step - loss: 0.0781 - accuracy: 0.9825 - val_loss: 0.2258 - val_accuracy: 0.9689\n",
      "\n",
      "Epoch 00031: val_loss did not improve from 0.05487\n",
      "Epoch 32/50\n",
      "546/546 [==============================] - 173s 317ms/step - loss: 0.0963 - accuracy: 0.9752 - val_loss: 0.3098 - val_accuracy: 0.9325\n",
      "\n",
      "Epoch 00032: val_loss did not improve from 0.05487\n",
      "Epoch 33/50\n",
      "546/546 [==============================] - 180s 331ms/step - loss: 0.1082 - accuracy: 0.9753 - val_loss: 0.0688 - val_accuracy: 0.9837\n",
      "\n",
      "Epoch 00033: val_loss did not improve from 0.05487\n",
      "Epoch 34/50\n",
      "546/546 [==============================] - 179s 327ms/step - loss: 0.1164 - accuracy: 0.9769 - val_loss: 0.7287 - val_accuracy: 0.9118\n",
      "\n",
      "Epoch 00034: val_loss did not improve from 0.05487\n",
      "Epoch 35/50\n",
      "546/546 [==============================] - 181s 331ms/step - loss: 0.1118 - accuracy: 0.9742 - val_loss: 0.1462 - val_accuracy: 0.9548\n",
      "\n",
      "Epoch 00035: val_loss did not improve from 0.05487\n",
      "Epoch 36/50\n",
      "546/546 [==============================] - 171s 312ms/step - loss: 0.1249 - accuracy: 0.9744 - val_loss: 0.4616 - val_accuracy: 0.9392\n",
      "\n",
      "Epoch 00036: val_loss did not improve from 0.05487\n",
      "Epoch 37/50\n",
      "546/546 [==============================] - 174s 319ms/step - loss: 0.0516 - accuracy: 0.9849 - val_loss: 0.1756 - val_accuracy: 0.9644\n",
      "\n",
      "Epoch 00037: val_loss did not improve from 0.05487\n",
      "Epoch 38/50\n",
      "546/546 [==============================] - 177s 324ms/step - loss: 0.0627 - accuracy: 0.9821 - val_loss: 0.9641 - val_accuracy: 0.8732\n",
      "\n",
      "Epoch 00038: val_loss did not improve from 0.05487\n",
      "Epoch 39/50\n",
      "546/546 [==============================] - 178s 326ms/step - loss: 0.1540 - accuracy: 0.9717 - val_loss: 0.0596 - val_accuracy: 0.9867\n",
      "\n",
      "Epoch 00039: val_loss did not improve from 0.05487\n",
      "Epoch 40/50\n",
      "546/546 [==============================] - 176s 323ms/step - loss: 0.1259 - accuracy: 0.9760 - val_loss: 0.0891 - val_accuracy: 0.9830\n",
      "\n",
      "Epoch 00040: val_loss did not improve from 0.05487\n",
      "Epoch 41/50\n"
     ]
    },
    {
     "name": "stdout",
     "output_type": "stream",
     "text": [
      "546/546 [==============================] - 168s 307ms/step - loss: 0.0862 - accuracy: 0.9813 - val_loss: 0.1195 - val_accuracy: 0.9755\n",
      "\n",
      "Epoch 00041: val_loss did not improve from 0.05487\n",
      "Epoch 42/50\n",
      "546/546 [==============================] - 176s 322ms/step - loss: 0.0772 - accuracy: 0.9840 - val_loss: 0.1247 - val_accuracy: 0.9718\n",
      "\n",
      "Epoch 00042: val_loss did not improve from 0.05487\n",
      "Epoch 43/50\n",
      "546/546 [==============================] - 176s 322ms/step - loss: 0.0755 - accuracy: 0.9834 - val_loss: 0.1888 - val_accuracy: 0.9644\n",
      "\n",
      "Epoch 00043: val_loss did not improve from 0.05487\n",
      "Epoch 44/50\n",
      "546/546 [==============================] - 180s 330ms/step - loss: 0.1277 - accuracy: 0.9745 - val_loss: 0.1158 - val_accuracy: 0.9800\n",
      "\n",
      "Epoch 00044: val_loss did not improve from 0.05487\n",
      "Epoch 45/50\n",
      "546/546 [==============================] - 181s 332ms/step - loss: 0.0694 - accuracy: 0.9829 - val_loss: 0.1873 - val_accuracy: 0.9696\n",
      "\n",
      "Epoch 00045: val_loss did not improve from 0.05487\n",
      "Epoch 46/50\n",
      "546/546 [==============================] - 180s 329ms/step - loss: 0.0540 - accuracy: 0.9866 - val_loss: 0.1003 - val_accuracy: 0.9815\n",
      "\n",
      "Epoch 00046: val_loss did not improve from 0.05487\n",
      "Epoch 47/50\n",
      "546/546 [==============================] - 179s 327ms/step - loss: 0.0844 - accuracy: 0.9833 - val_loss: 0.2789 - val_accuracy: 0.9526\n",
      "\n",
      "Epoch 00047: val_loss did not improve from 0.05487\n",
      "Epoch 48/50\n",
      "546/546 [==============================] - 176s 322ms/step - loss: 0.0961 - accuracy: 0.9792 - val_loss: 0.1044 - val_accuracy: 0.9792\n",
      "\n",
      "Epoch 00048: val_loss did not improve from 0.05487\n",
      "Epoch 49/50\n",
      "546/546 [==============================] - 180s 330ms/step - loss: 0.0447 - accuracy: 0.9868 - val_loss: 0.2496 - val_accuracy: 0.9763\n",
      "\n",
      "Epoch 00049: val_loss did not improve from 0.05487\n",
      "Epoch 50/50\n",
      "546/546 [==============================] - 178s 326ms/step - loss: 0.0891 - accuracy: 0.9808 - val_loss: 0.1490 - val_accuracy: 0.9741\n",
      "\n",
      "Epoch 00050: val_loss did not improve from 0.05487\n"
     ]
    }
   ],
   "source": [
    "history=model.fit(X,Y,batch_size=20,validation_data=(X_val,Y_val),epochs= 50,\n",
    "                 callbacks=[check_point])"
   ]
  },
  {
   "cell_type": "code",
   "execution_count": 21,
   "metadata": {
    "scrolled": true
   },
   "outputs": [
    {
     "data": {
      "text/plain": [
       "<matplotlib.legend.Legend at 0x15db4ad35e0>"
      ]
     },
     "execution_count": 21,
     "metadata": {},
     "output_type": "execute_result"
    },
    {
     "data": {
      "image/png": "[encoded data removed]",
      "text/plain": [
       "<Figure size 576x288 with 1 Axes>"
      ]
     },
     "metadata": {
      "needs_background": "light"
     },
     "output_type": "display_data"
    }
   ],
   "source": [
    "plt.figure(1, figsize = (8, 4))\n",
    "plt.plot()\n",
    "plt.xlabel(\"Epochs\")\n",
    "plt.ylabel(\"Loss\")\n",
    "plt.plot( history.history[\"loss\"], label = \"Training Loss\")\n",
    "plt.plot( history.history[\"val_loss\"], label = \"Validation Loss\")\n",
    "plt.grid(True)\n",
    "plt.legend()"
   ]
  },
  {
   "cell_type": "code",
   "execution_count": 22,
   "metadata": {},
   "outputs": [
    {
     "data": {
      "text/plain": [
       "<matplotlib.legend.Legend at 0x15db8944100>"
      ]
     },
     "execution_count": 22,
     "metadata": {},
     "output_type": "execute_result"
    },
    {
     "data": {
      "image/png": "[encoded data removed]",
      "text/plain": [
       "<Figure size 576x288 with 1 Axes>"
      ]
     },
     "metadata": {
      "needs_background": "light"
     },
     "output_type": "display_data"
    }
   ],
   "source": [
    "plt.figure(1, figsize = (8, 4))\n",
    "plt.plot()\n",
    "plt.xlabel(\"Epochs\")\n",
    "plt.ylabel(\"Accuracy\")\n",
    "plt.plot( history.history[\"accuracy\"], label = \"Training Accuracy\")\n",
    "plt.plot( history.history[\"val_accuracy\"], label = \"Validation Accuracy\")\n",
    "plt.grid(True)\n",
    "plt.legend()"
   ]
  },
  {
   "cell_type": "code",
   "execution_count": 23,
   "metadata": {},
   "outputs": [
    {
     "name": "stdout",
     "output_type": "stream",
     "text": [
      "43/43 [==============================] - 6s 115ms/step - loss: 0.1532 - accuracy: 0.9652\n"
     ]
    },
    {
     "data": {
      "text/plain": [
       "[0.15319384634494781, 0.9651593565940857]"
      ]
     },
     "execution_count": 23,
     "metadata": {},
     "output_type": "execute_result"
    }
   ],
   "source": [
    "model.evaluate(X_test,Y_test)"
   ]
  },
  {
   "cell_type": "code",
   "execution_count": 24,
   "metadata": {},
   "outputs": [],
   "source": [
    "model.save('fruit_classification_p1.h5')"
   ]
  },
  {
   "cell_type": "code",
   "execution_count": 25,
   "metadata": {},
   "outputs": [],
   "source": [
    "import numpy as np \n",
    "import pandas as pd\n",
    "import os\n",
    "import cv2\n",
    "import matplotlib.pyplot as plt\n",
    "from tqdm import tqdm\n",
    "from random import shuffle\n",
    "from keras.utils  import to_categorical \n",
    "import pickle\n",
    "from tensorflow.keras.preprocessing import image\n",
    "from tensorflow.keras.optimizers import RMSprop"
   ]
  },
  {
   "cell_type": "code",
   "execution_count": 26,
   "metadata": {},
   "outputs": [],
   "source": [
    "from keras import models\n",
    "model = models.load_model('fruit_v2_1.h5')"
   ]
  },
  {
   "cell_type": "code",
   "execution_count": 27,
   "metadata": {},
   "outputs": [
    {
     "name": "stdout",
     "output_type": "stream",
     "text": [
      "43/43 [==============================] - 6s 95ms/step - loss: 0.1042 - accuracy: 0.9755\n"
     ]
    },
    {
     "data": {
      "text/plain": [
       "[0.10419470071792603, 0.9755374193191528]"
      ]
     },
     "execution_count": 27,
     "metadata": {},
     "output_type": "execute_result"
    }
   ],
   "source": [
    "model.evaluate(X_test,Y_test)"
   ]
  },
  {
   "cell_type": "code",
   "execution_count": 28,
   "metadata": {},
   "outputs": [
    {
     "data": {
      "text/plain": [
       "<matplotlib.legend.Legend at 0x15db8a8bf40>"
      ]
     },
     "execution_count": 28,
     "metadata": {},
     "output_type": "execute_result"
    },
    {
     "data": {
      "image/png": "[encoded data removed]",
      "text/plain": [
       "<Figure size 576x288 with 1 Axes>"
      ]
     },
     "metadata": {
      "needs_background": "light"
     },
     "output_type": "display_data"
    }
   ],
   "source": [
    "plt.figure(1, figsize = (8, 4))\n",
    "plt.plot()\n",
    "plt.xlabel(\"Epochs\")\n",
    "plt.ylabel(\"Loss\")\n",
    "plt.plot( history.history[\"loss\"], label = \"Training Loss\")\n",
    "plt.plot( history.history[\"val_loss\"], label = \"Validation Loss\")\n",
    "plt.grid(True)\n",
    "plt.legend()"
   ]
  },
  {
   "cell_type": "code",
   "execution_count": 29,
   "metadata": {
    "scrolled": true
   },
   "outputs": [
    {
     "data": {
      "text/plain": [
       "<matplotlib.legend.Legend at 0x15db8be5550>"
      ]
     },
     "execution_count": 29,
     "metadata": {},
     "output_type": "execute_result"
    },
    {
     "data": {
      "image/png": "[encoded data removed]",
      "text/plain": [
       "<Figure size 576x288 with 1 Axes>"
      ]
     },
     "metadata": {
      "needs_background": "light"
     },
     "output_type": "display_data"
    }
   ],
   "source": [
    "plt.figure(1, figsize = (8, 4))\n",
    "plt.plot()\n",
    "plt.xlabel(\"Epochs\")\n",
    "plt.ylabel(\"Accuracy\")\n",
    "plt.plot( history.history[\"accuracy\"], label = \"Training Accuracy\")\n",
    "plt.plot( history.history[\"val_accuracy\"], label = \"Validation Accuracy\")\n",
    "plt.grid(True)\n",
    "plt.legend()"
   ]
  },
  {
   "cell_type": "code",
   "execution_count": 30,
   "metadata": {},
   "outputs": [
    {
     "name": "stdout",
     "output_type": "stream",
     "text": [
      "Confusion Matrix\n",
      "\n",
      "[[192   0   1   3   0   1]\n",
      " [  1 196   0   4   0   0]\n",
      " [  0   0 193   1   2   2]\n",
      " [  4   0   2 288   0   0]\n",
      " [  0   1   0   0 264   0]\n",
      " [  0   0   1  10   0 183]]\n"
     ]
    }
   ],
   "source": [
    "from sklearn.metrics import confusion_matrix\n",
    "y_pred = model.predict(X_test)\n",
    "conf = confusion_matrix(Y_test.argmax(axis=1), y_pred.argmax(axis=1))\n",
    "print('Confusion Matrix\\n')\n",
    "print(conf)"
   ]
  },
  {
   "cell_type": "code",
   "execution_count": 31,
   "metadata": {},
   "outputs": [
    {
     "name": "stdout",
     "output_type": "stream",
     "text": [
      "\n",
      "Accuracy: 0.98\n",
      "\n",
      "Micro Precision: 0.98\n",
      "Micro Recall: 0.98\n",
      "Micro F1-score: 0.98\n",
      "\n",
      "Macro Precision: 0.98\n",
      "Macro Recall: 0.97\n",
      "Macro F1-score: 0.98\n",
      "\n",
      "Weighted Precision: 0.98\n",
      "Weighted Recall: 0.98\n",
      "Weighted F1-score: 0.98\n"
     ]
    }
   ],
   "source": [
    "#importing accuracy_score, precision_score, recall_score, f1_score\n",
    "from sklearn.metrics import accuracy_score, precision_score, recall_score, f1_score\n",
    "print('\\nAccuracy: {:.2f}\\n'.format(accuracy_score(Y_test.argmax(axis=1), y_pred.argmax(axis=1))))\n",
    "\n",
    "print('Micro Precision: {:.2f}'.format(precision_score(Y_test.argmax(axis=1), y_pred.argmax(axis=1), average='micro')))\n",
    "print('Micro Recall: {:.2f}'.format(recall_score(Y_test.argmax(axis=1), y_pred.argmax(axis=1), average='micro')))\n",
    "print('Micro F1-score: {:.2f}\\n'.format(f1_score(Y_test.argmax(axis=1), y_pred.argmax(axis=1), average='micro')))\n",
    "\n",
    "print('Macro Precision: {:.2f}'.format(precision_score(Y_test.argmax(axis=1), y_pred.argmax(axis=1), average='macro')))\n",
    "print('Macro Recall: {:.2f}'.format(recall_score(Y_test.argmax(axis=1), y_pred.argmax(axis=1), average='macro')))\n",
    "print('Macro F1-score: {:.2f}\\n'.format(f1_score(Y_test.argmax(axis=1), y_pred.argmax(axis=1), average='macro')))\n",
    "\n",
    "print('Weighted Precision: {:.2f}'.format(precision_score(Y_test.argmax(axis=1), y_pred.argmax(axis=1), average='weighted')))\n",
    "print('Weighted Recall: {:.2f}'.format(recall_score(Y_test.argmax(axis=1), y_pred.argmax(axis=1), average='weighted')))\n",
    "print('Weighted F1-score: {:.2f}'.format(f1_score(Y_test.argmax(axis=1), y_pred.argmax(axis=1), average='weighted')))"
   ]
  },
  {
   "cell_type": "code",
   "execution_count": 33,
   "metadata": {},
   "outputs": [
    {
     "name": "stdout",
     "output_type": "stream",
     "text": [
      "\n",
      "Classification Report\n",
      "\n",
      "               precision    recall  f1-score   support\n",
      "\n",
      "  Fresh Apple       0.97      0.97      0.97       197\n",
      " Fresh Banana       0.99      0.98      0.98       201\n",
      " Fresh Orange       0.98      0.97      0.98       198\n",
      " Rotten Apple       0.94      0.98      0.96       294\n",
      "Rotten Banana       0.99      1.00      0.99       265\n",
      "Rotten Orange       0.98      0.94      0.96       194\n",
      "\n",
      "     accuracy                           0.98      1349\n",
      "    macro avg       0.98      0.97      0.98      1349\n",
      " weighted avg       0.98      0.98      0.98      1349\n",
      "\n"
     ]
    }
   ],
   "source": [
    "from sklearn.metrics import classification_report\n",
    "print('\\nClassification Report\\n')\n",
    "print(classification_report(Y_test.argmax(axis=1), y_pred.argmax(axis=1), target_names=['Fresh Apple', 'Fresh Banana', 'Fresh Orange', 'Rotten Apple', 'Rotten Banana', 'Rotten Orange']))"
   ]
  },
  {
   "cell_type": "code",
   "execution_count": null,
   "metadata": {},
   "outputs": [],
   "source": []
  },
  {
   "cell_type": "code",
   "execution_count": null,
   "metadata": {},
   "outputs": [],
   "source": []
  }
 ],
 "metadata": {
  "kernelspec": {
   "display_name": "Python 3",
   "language": "python",
   "name": "python3"
  },
  "language_info": {
   "codemirror_mode": {
    "name": "ipython",
    "version": 3
   },
   "file_extension": ".py",
   "mimetype": "text/x-python",
   "name": "python",
   "nbconvert_exporter": "python",
   "pygments_lexer": "ipython3",
   "version": "3.8.5"
  }
 },
 "nbformat": 4,
 "nbformat_minor": 4
}
